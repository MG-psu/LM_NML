{
 "cells": [
  {
   "cell_type": "code",
   "execution_count": 1,
   "id": "c84918aa",
   "metadata": {
    "scrolled": false
   },
   "outputs": [
    {
     "name": "stdout",
     "output_type": "stream",
     "text": [
      "Defaulting to user installation because normal site-packages is not writeable\n",
      "Collecting munkres\n",
      "  Downloading munkres-1.1.4-py2.py3-none-any.whl (7.0 kB)\n",
      "Installing collected packages: munkres\n",
      "Successfully installed munkres-1.1.4\n"
     ]
    }
   ],
   "source": [
    "#!pip install munkres"
   ]
  },
  {
   "cell_type": "code",
   "execution_count": 1,
   "id": "fb0ac219",
   "metadata": {},
   "outputs": [],
   "source": [
    "import pandas as pd\n",
    "from sklearn import preprocessing"
   ]
  },
  {
   "cell_type": "code",
   "execution_count": 2,
   "id": "675f4d01",
   "metadata": {},
   "outputs": [],
   "source": [
    "dataset = pd.read_csv('/Users/madhuri/Desktop/MasterThesis/Part1/NLM_sets_top_10_clean?NLM2.csv')"
   ]
  },
  {
   "cell_type": "code",
   "execution_count": 3,
   "id": "4c7be821",
   "metadata": {},
   "outputs": [
    {
     "data": {
      "text/plain": [
       "Leukemia patient sample                                          2096\n",
       "HumanAorticEndothelialCells                                      1014\n",
       "Breast Tumor                                                      902\n",
       "Lymphoblastoid_cell_line                                          817\n",
       "pre-treatment bone marrow                                         817\n",
       "PBMC                                                              550\n",
       "primary colorectal adenocarcinoma                                 519\n",
       "mononuclear cells from bone marrow                                415\n",
       "airway epithelial cells obtained by bronchoscopy and brushing     333\n",
       "colon cancer tissue                                               331\n",
       "Name: tissue_name, dtype: int64"
      ]
     },
     "execution_count": 3,
     "metadata": {},
     "output_type": "execute_result"
    }
   ],
   "source": [
    "dataset['tissue_name'].value_counts()"
   ]
  },
  {
   "cell_type": "code",
   "execution_count": 5,
   "id": "6ef54774",
   "metadata": {},
   "outputs": [
    {
     "name": "stdout",
     "output_type": "stream",
     "text": [
      "---------------------\n",
      "Hungarian method confusion matrix:\n",
      "\n",
      " [[ 902    0    0    0    0    0    0    0    0    0]\n",
      " [   0 1014    0    0    0    0    0    0    0    0]\n",
      " [   0    0  875    0   17    0  441  763    0    0]\n",
      " [   0    0    0  817    0    0    0    0    0    0]\n",
      " [  13    0    2    0  523    0    1    4    7    0]\n",
      " [   0    0    0    0    0  333    0    0    0    0]\n",
      " [   3    0    0    0    0    0    0    0    0  328]\n",
      " [   0    0  133    0    3    0    0  279    0    0]\n",
      " [   0    0    0    0    0    0    1    2  814    0]\n",
      " [   5    0    0    0    0    0    0    0    0  514]]\n",
      "accuracy: 0.78\n"
     ]
    }
   ],
   "source": [
    "'''\n",
    "If we use (external) classification evalutation measures like F1 or \n",
    "accuracy for clustering evaluation, problems may arise. \n",
    "\n",
    "One way to fix is to perform label matching.\n",
    "\n",
    "Here we performs kmeans clustering on the Iris dataset and proceed to use \n",
    "the Hungarian (Munkres) algorithm to correct the mismatched labeling. \n",
    "'''\n",
    "\n",
    "import sys\n",
    "import numpy as np\n",
    "from sklearn.cluster import KMeans\n",
    "from sklearn import datasets\n",
    "from sklearn.metrics import confusion_matrix\n",
    "\n",
    "from munkres import Munkres\n",
    "\n",
    "def make_cost_matrix(c1, c2):\n",
    "    \"\"\"\n",
    "    \"\"\"\n",
    "    uc1 = np.unique(c1)\n",
    "    uc2 = np.unique(c2)\n",
    "    l1 = uc1.size\n",
    "    l2 = uc2.size\n",
    "    assert(l1 == l2 and np.all(uc1 == uc2))\n",
    "\n",
    "    m = np.ones([l1, l2])\n",
    "    for i in range(l1):\n",
    "        it_i = np.nonzero(c1 == uc1[i])[0]\n",
    "        for j in range(l2):\n",
    "            it_j = np.nonzero(c2 == uc2[j])[0]\n",
    "            m_ij = np.intersect1d(it_j, it_i)\n",
    "            m[i,j] =  -m_ij.size\n",
    "    return m\n",
    "\n",
    "def translate_clustering(clt, mapper):\n",
    "    return np.array([ mapper[i] for i in clt ])\n",
    "\n",
    "def accuracy(cm):\n",
    "    \"\"\"computes accuracy from confusion matrix\"\"\"\n",
    "    return np.trace(cm, dtype=float) / np.sum(cm)\n",
    "\n",
    "def main():\n",
    "    \"\"\"entry point\"\"\"\n",
    "    dataset = pd.read_csv('/Users/madhuri/Desktop/MasterThesis/Part1/NLM_sets_top_10_clean?NLM2.csv') # loads the dataset\n",
    "    #data, classes = dataset.data, dataset.target # data and true labels\n",
    "    data=dataset.drop(['tissue_name'], axis=1)\n",
    "    classes_actual=dataset['tissue_name']\n",
    "    le = preprocessing.LabelEncoder()\n",
    "    classes= le.fit_transform(classes_actual)\n",
    "    algo = KMeans(n_clusters=10, random_state = 0)\n",
    "\n",
    "    labels = algo.fit(data).labels_ # performs the algo and get the predicted labels\n",
    "    num_labels = len(np.unique(classes))\n",
    "\n",
    "    cm = confusion_matrix(classes, labels, labels=range(num_labels)) # gets the confusion matrix\n",
    "    #print (\"---------------------\\nold confusion matrix:\\n\" \\\n",
    "     #     \" %s\\naccuracy: %.2f\" % (str(cm), accuracy(cm)))\n",
    "\n",
    "    cost_matrix = make_cost_matrix(labels, classes)\n",
    "\n",
    "    m = Munkres()\n",
    "    indexes = m.compute(cost_matrix)\n",
    "    mapper = { old: new for (old, new) in indexes }\n",
    "\n",
    "    #print (\"---------------------\\nmapping:\")\n",
    "    #for old, new in mapper['iteritems']:\n",
    "    #for old, new in mapper.iteritems():\n",
    "        \n",
    "        #print (\"map: %s --> %s\" %(old, new))\n",
    "\n",
    "    new_labels = translate_clustering(labels, mapper)\n",
    "    new_cm = confusion_matrix(classes, new_labels, labels=range(num_labels))\n",
    "    print (\"---------------------\\nHungarian method confusion matrix:\\n\\n\" \\\n",
    "          \" %s\\naccuracy: %.2f\" % (str(new_cm), accuracy(new_cm)))\n",
    "\n",
    "\n",
    "if __name__ == \"__main__\":\n",
    "    main()\n"
   ]
  },
  {
   "cell_type": "code",
   "execution_count": null,
   "id": "a019a4ed",
   "metadata": {},
   "outputs": [],
   "source": []
  }
 ],
 "metadata": {
  "kernelspec": {
   "display_name": "Python 3 (ipykernel)",
   "language": "python",
   "name": "python3"
  },
  "language_info": {
   "codemirror_mode": {
    "name": "ipython",
    "version": 3
   },
   "file_extension": ".py",
   "mimetype": "text/x-python",
   "name": "python",
   "nbconvert_exporter": "python",
   "pygments_lexer": "ipython3",
   "version": "3.8.13"
  }
 },
 "nbformat": 4,
 "nbformat_minor": 5
}
