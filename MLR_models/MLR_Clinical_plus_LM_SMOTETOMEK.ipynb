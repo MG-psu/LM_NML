{
 "cells": [
  {
   "cell_type": "code",
   "execution_count": null,
   "id": "da06f60f",
   "metadata": {},
   "outputs": [],
   "source": [
    "import sys\n",
    "sys.executable"
   ]
  },
  {
   "cell_type": "code",
   "execution_count": null,
   "id": "aa4c762d",
   "metadata": {},
   "outputs": [],
   "source": [
    "#!'/Library/Developer/CommandLineTools/usr/bin/python3' -m pip install smote_variants"
   ]
  },
  {
   "cell_type": "code",
   "execution_count": null,
   "id": "f989bb7b",
   "metadata": {
    "scrolled": true
   },
   "outputs": [],
   "source": [
    "#!'/Library/Developer/CommandLineTools/usr/bin/python3' -m pip install imblearn"
   ]
  },
  {
   "cell_type": "code",
   "execution_count": 29,
   "id": "8bab0a39",
   "metadata": {},
   "outputs": [],
   "source": [
    "from imblearn.combine import SMOTETomek\n",
    "from imblearn.under_sampling import TomekLinks\n",
    "from numpy import mean\n",
    "from numpy import std\n",
    "\n",
    "from sklearn.model_selection import cross_val_score\n",
    "from sklearn.model_selection import RepeatedStratifiedKFold\n",
    "from sklearn.linear_model import LogisticRegression\n",
    "from sklearn import preprocessing"
   ]
  },
  {
   "cell_type": "code",
   "execution_count": 30,
   "id": "f90504f3",
   "metadata": {
    "scrolled": true
   },
   "outputs": [],
   "source": [
    "import smote_variants as sv"
   ]
  },
  {
   "cell_type": "code",
   "execution_count": 31,
   "id": "2320f69f",
   "metadata": {},
   "outputs": [],
   "source": [
    "import pandas as pd\n",
    "import numpy as np\n",
    "from sklearn.model_selection import train_test_split\n",
    "from sklearn.preprocessing import LabelEncoder\n",
    "\n",
    "from sklearn.compose import ColumnTransformer\n",
    "\n",
    "from sklearn.preprocessing import OneHotEncoder\n",
    "from sklearn.preprocessing import MinMaxScaler"
   ]
  },
  {
   "cell_type": "code",
   "execution_count": 32,
   "id": "d6c23f25",
   "metadata": {},
   "outputs": [],
   "source": [
    "pd.options.mode.chained_assignment = None"
   ]
  },
  {
   "cell_type": "code",
   "execution_count": 33,
   "id": "1e2495f2",
   "metadata": {},
   "outputs": [],
   "source": [
    "from sklearn.linear_model import LogisticRegression\n",
    "from sklearn.metrics import classification_report, confusion_matrix, plot_confusion_matrix\n",
    "import seaborn as sns\n",
    "import matplotlib.pyplot as plt"
   ]
  },
  {
   "cell_type": "code",
   "execution_count": 34,
   "id": "2cc379ec",
   "metadata": {},
   "outputs": [],
   "source": [
    "clinical = pd.read_csv('/Users/madhuri/Desktop/MasterThesis/Part2/Clinical_9_predictors.csv')"
   ]
  },
  {
   "cell_type": "code",
   "execution_count": 35,
   "id": "f80eb192",
   "metadata": {},
   "outputs": [],
   "source": [
    "gene_data = pd.read_csv('/Users/madhuri/Desktop/MasterThesis/Part2/final_gene_list.csv')"
   ]
  },
  {
   "cell_type": "code",
   "execution_count": 36,
   "id": "3250eda5",
   "metadata": {
    "scrolled": false
   },
   "outputs": [
    {
     "data": {
      "text/html": [
       "<div>\n",
       "<style scoped>\n",
       "    .dataframe tbody tr th:only-of-type {\n",
       "        vertical-align: middle;\n",
       "    }\n",
       "\n",
       "    .dataframe tbody tr th {\n",
       "        vertical-align: top;\n",
       "    }\n",
       "\n",
       "    .dataframe thead th {\n",
       "        text-align: right;\n",
       "    }\n",
       "</style>\n",
       "<table border=\"1\" class=\"dataframe\">\n",
       "  <thead>\n",
       "    <tr style=\"text-align: right;\">\n",
       "      <th></th>\n",
       "      <th>X217398_x_at</th>\n",
       "      <th>X1007_s_at</th>\n",
       "      <th>X121_at</th>\n",
       "      <th>X200045_at</th>\n",
       "      <th>X200053_at</th>\n",
       "      <th>X200071_at</th>\n",
       "      <th>X200078_s_at</th>\n",
       "      <th>X200083_at</th>\n",
       "      <th>X200617_at</th>\n",
       "      <th>X200621_at</th>\n",
       "      <th>...</th>\n",
       "      <th>X220558_x_at</th>\n",
       "      <th>X220559_at</th>\n",
       "      <th>X220560_at</th>\n",
       "      <th>X220561_at</th>\n",
       "      <th>X220562_at</th>\n",
       "      <th>X220563_s_at</th>\n",
       "      <th>X220564_at</th>\n",
       "      <th>X220565_at</th>\n",
       "      <th>X220566_at</th>\n",
       "      <th>X220567_at</th>\n",
       "    </tr>\n",
       "  </thead>\n",
       "  <tbody>\n",
       "    <tr>\n",
       "      <th>0</th>\n",
       "      <td>14.8671</td>\n",
       "      <td>11.0591</td>\n",
       "      <td>6.8277</td>\n",
       "      <td>9.5294</td>\n",
       "      <td>8.3286</td>\n",
       "      <td>9.3068</td>\n",
       "      <td>9.5442</td>\n",
       "      <td>9.3407</td>\n",
       "      <td>8.9275</td>\n",
       "      <td>10.1233</td>\n",
       "      <td>...</td>\n",
       "      <td>5.1859</td>\n",
       "      <td>4.2881</td>\n",
       "      <td>4.7643</td>\n",
       "      <td>5.2610</td>\n",
       "      <td>5.6335</td>\n",
       "      <td>4.2882</td>\n",
       "      <td>5.2773</td>\n",
       "      <td>5.2037</td>\n",
       "      <td>4.2883</td>\n",
       "      <td>4.2884</td>\n",
       "    </tr>\n",
       "    <tr>\n",
       "      <th>1</th>\n",
       "      <td>14.8777</td>\n",
       "      <td>11.1169</td>\n",
       "      <td>6.7891</td>\n",
       "      <td>9.5766</td>\n",
       "      <td>9.0341</td>\n",
       "      <td>9.5069</td>\n",
       "      <td>9.8331</td>\n",
       "      <td>8.8887</td>\n",
       "      <td>8.9703</td>\n",
       "      <td>9.9776</td>\n",
       "      <td>...</td>\n",
       "      <td>4.2640</td>\n",
       "      <td>5.5825</td>\n",
       "      <td>4.6809</td>\n",
       "      <td>4.2366</td>\n",
       "      <td>5.6856</td>\n",
       "      <td>4.6310</td>\n",
       "      <td>4.4076</td>\n",
       "      <td>5.5568</td>\n",
       "      <td>5.0411</td>\n",
       "      <td>4.6777</td>\n",
       "    </tr>\n",
       "    <tr>\n",
       "      <th>2</th>\n",
       "      <td>14.8518</td>\n",
       "      <td>10.9811</td>\n",
       "      <td>6.8793</td>\n",
       "      <td>9.3658</td>\n",
       "      <td>8.4623</td>\n",
       "      <td>9.4156</td>\n",
       "      <td>9.5450</td>\n",
       "      <td>9.1866</td>\n",
       "      <td>9.0396</td>\n",
       "      <td>9.9204</td>\n",
       "      <td>...</td>\n",
       "      <td>5.2548</td>\n",
       "      <td>5.1080</td>\n",
       "      <td>5.5434</td>\n",
       "      <td>4.4733</td>\n",
       "      <td>5.4211</td>\n",
       "      <td>5.6083</td>\n",
       "      <td>5.2171</td>\n",
       "      <td>4.4056</td>\n",
       "      <td>4.3341</td>\n",
       "      <td>4.8077</td>\n",
       "    </tr>\n",
       "    <tr>\n",
       "      <th>3</th>\n",
       "      <td>14.8416</td>\n",
       "      <td>10.6992</td>\n",
       "      <td>6.8515</td>\n",
       "      <td>9.4089</td>\n",
       "      <td>8.8189</td>\n",
       "      <td>9.3535</td>\n",
       "      <td>9.4884</td>\n",
       "      <td>9.1249</td>\n",
       "      <td>8.9817</td>\n",
       "      <td>10.0511</td>\n",
       "      <td>...</td>\n",
       "      <td>5.3894</td>\n",
       "      <td>4.4339</td>\n",
       "      <td>4.8631</td>\n",
       "      <td>4.5597</td>\n",
       "      <td>5.2773</td>\n",
       "      <td>5.1513</td>\n",
       "      <td>4.6724</td>\n",
       "      <td>4.4341</td>\n",
       "      <td>4.4342</td>\n",
       "      <td>4.4344</td>\n",
       "    </tr>\n",
       "    <tr>\n",
       "      <th>4</th>\n",
       "      <td>14.8518</td>\n",
       "      <td>11.0156</td>\n",
       "      <td>6.6954</td>\n",
       "      <td>9.6096</td>\n",
       "      <td>9.2547</td>\n",
       "      <td>9.2254</td>\n",
       "      <td>9.7614</td>\n",
       "      <td>9.2038</td>\n",
       "      <td>9.2665</td>\n",
       "      <td>10.0792</td>\n",
       "      <td>...</td>\n",
       "      <td>5.7820</td>\n",
       "      <td>5.4174</td>\n",
       "      <td>5.8110</td>\n",
       "      <td>4.9831</td>\n",
       "      <td>5.2830</td>\n",
       "      <td>5.3548</td>\n",
       "      <td>4.3360</td>\n",
       "      <td>4.3361</td>\n",
       "      <td>4.5812</td>\n",
       "      <td>4.3363</td>\n",
       "    </tr>\n",
       "  </tbody>\n",
       "</table>\n",
       "<p>5 rows × 20000 columns</p>\n",
       "</div>"
      ],
      "text/plain": [
       "   X217398_x_at  X1007_s_at  X121_at  X200045_at  X200053_at  X200071_at  \\\n",
       "0       14.8671     11.0591   6.8277      9.5294      8.3286      9.3068   \n",
       "1       14.8777     11.1169   6.7891      9.5766      9.0341      9.5069   \n",
       "2       14.8518     10.9811   6.8793      9.3658      8.4623      9.4156   \n",
       "3       14.8416     10.6992   6.8515      9.4089      8.8189      9.3535   \n",
       "4       14.8518     11.0156   6.6954      9.6096      9.2547      9.2254   \n",
       "\n",
       "   X200078_s_at  X200083_at  X200617_at  X200621_at  ...  X220558_x_at  \\\n",
       "0        9.5442      9.3407      8.9275     10.1233  ...        5.1859   \n",
       "1        9.8331      8.8887      8.9703      9.9776  ...        4.2640   \n",
       "2        9.5450      9.1866      9.0396      9.9204  ...        5.2548   \n",
       "3        9.4884      9.1249      8.9817     10.0511  ...        5.3894   \n",
       "4        9.7614      9.2038      9.2665     10.0792  ...        5.7820   \n",
       "\n",
       "   X220559_at  X220560_at  X220561_at  X220562_at  X220563_s_at  X220564_at  \\\n",
       "0      4.2881      4.7643      5.2610      5.6335        4.2882      5.2773   \n",
       "1      5.5825      4.6809      4.2366      5.6856        4.6310      4.4076   \n",
       "2      5.1080      5.5434      4.4733      5.4211        5.6083      5.2171   \n",
       "3      4.4339      4.8631      4.5597      5.2773        5.1513      4.6724   \n",
       "4      5.4174      5.8110      4.9831      5.2830        5.3548      4.3360   \n",
       "\n",
       "   X220565_at  X220566_at  X220567_at  \n",
       "0      5.2037      4.2883      4.2884  \n",
       "1      5.5568      5.0411      4.6777  \n",
       "2      4.4056      4.3341      4.8077  \n",
       "3      4.4341      4.4342      4.4344  \n",
       "4      4.3361      4.5812      4.3363  \n",
       "\n",
       "[5 rows x 20000 columns]"
      ]
     },
     "execution_count": 36,
     "metadata": {},
     "output_type": "execute_result"
    }
   ],
   "source": [
    "gene_data.head()"
   ]
  },
  {
   "cell_type": "code",
   "execution_count": 37,
   "id": "05dc327b",
   "metadata": {
    "scrolled": true
   },
   "outputs": [
    {
     "data": {
      "text/plain": [
       "(6802, 20000)"
      ]
     },
     "execution_count": 37,
     "metadata": {},
     "output_type": "execute_result"
    }
   ],
   "source": [
    "gene_data.shape"
   ]
  },
  {
   "cell_type": "code",
   "execution_count": 38,
   "id": "4154f3c9",
   "metadata": {},
   "outputs": [],
   "source": [
    "all_data=pd.concat([clinical, gene_data], axis=1)"
   ]
  },
  {
   "cell_type": "code",
   "execution_count": 39,
   "id": "d9a88485",
   "metadata": {},
   "outputs": [
    {
     "data": {
      "text/html": [
       "<div>\n",
       "<style scoped>\n",
       "    .dataframe tbody tr th:only-of-type {\n",
       "        vertical-align: middle;\n",
       "    }\n",
       "\n",
       "    .dataframe tbody tr th {\n",
       "        vertical-align: top;\n",
       "    }\n",
       "\n",
       "    .dataframe thead th {\n",
       "        text-align: right;\n",
       "    }\n",
       "</style>\n",
       "<table border=\"1\" class=\"dataframe\">\n",
       "  <thead>\n",
       "    <tr style=\"text-align: right;\">\n",
       "      <th></th>\n",
       "      <th>DiseaseType</th>\n",
       "      <th>CancerType</th>\n",
       "      <th>SampleType</th>\n",
       "      <th>Gender</th>\n",
       "      <th>Race</th>\n",
       "      <th>Ethnicity</th>\n",
       "      <th>PrimaryDiagnosis</th>\n",
       "      <th>AgeAtDiagnosis</th>\n",
       "      <th>Morphology</th>\n",
       "      <th>TissueOrOrganOfOrigin</th>\n",
       "      <th>...</th>\n",
       "      <th>X220558_x_at</th>\n",
       "      <th>X220559_at</th>\n",
       "      <th>X220560_at</th>\n",
       "      <th>X220561_at</th>\n",
       "      <th>X220562_at</th>\n",
       "      <th>X220563_s_at</th>\n",
       "      <th>X220564_at</th>\n",
       "      <th>X220565_at</th>\n",
       "      <th>X220566_at</th>\n",
       "      <th>X220567_at</th>\n",
       "    </tr>\n",
       "  </thead>\n",
       "  <tbody>\n",
       "    <tr>\n",
       "      <th>count</th>\n",
       "      <td>6802</td>\n",
       "      <td>6802</td>\n",
       "      <td>6802</td>\n",
       "      <td>6774</td>\n",
       "      <td>5901</td>\n",
       "      <td>5249</td>\n",
       "      <td>6617</td>\n",
       "      <td>6718.000000</td>\n",
       "      <td>6774</td>\n",
       "      <td>6617</td>\n",
       "      <td>...</td>\n",
       "      <td>6802.000000</td>\n",
       "      <td>6802.000000</td>\n",
       "      <td>6802.000000</td>\n",
       "      <td>6802.000000</td>\n",
       "      <td>6802.000000</td>\n",
       "      <td>6802.000000</td>\n",
       "      <td>6802.000000</td>\n",
       "      <td>6802.000000</td>\n",
       "      <td>6802.000000</td>\n",
       "      <td>6802.000000</td>\n",
       "    </tr>\n",
       "    <tr>\n",
       "      <th>unique</th>\n",
       "      <td>21</td>\n",
       "      <td>10</td>\n",
       "      <td>6</td>\n",
       "      <td>2</td>\n",
       "      <td>6</td>\n",
       "      <td>2</td>\n",
       "      <td>66</td>\n",
       "      <td>NaN</td>\n",
       "      <td>68</td>\n",
       "      <td>46</td>\n",
       "      <td>...</td>\n",
       "      <td>NaN</td>\n",
       "      <td>NaN</td>\n",
       "      <td>NaN</td>\n",
       "      <td>NaN</td>\n",
       "      <td>NaN</td>\n",
       "      <td>NaN</td>\n",
       "      <td>NaN</td>\n",
       "      <td>NaN</td>\n",
       "      <td>NaN</td>\n",
       "      <td>NaN</td>\n",
       "    </tr>\n",
       "    <tr>\n",
       "      <th>top</th>\n",
       "      <td>AdenomasAndAdenocarcinomas</td>\n",
       "      <td>Breast</td>\n",
       "      <td>Primary Tumor</td>\n",
       "      <td>male</td>\n",
       "      <td>white</td>\n",
       "      <td>not hispanic or latino</td>\n",
       "      <td>Adenocarcinoma, NOS</td>\n",
       "      <td>NaN</td>\n",
       "      <td>8140/3</td>\n",
       "      <td>Breast, NOS</td>\n",
       "      <td>...</td>\n",
       "      <td>NaN</td>\n",
       "      <td>NaN</td>\n",
       "      <td>NaN</td>\n",
       "      <td>NaN</td>\n",
       "      <td>NaN</td>\n",
       "      <td>NaN</td>\n",
       "      <td>NaN</td>\n",
       "      <td>NaN</td>\n",
       "      <td>NaN</td>\n",
       "      <td>NaN</td>\n",
       "    </tr>\n",
       "    <tr>\n",
       "      <th>freq</th>\n",
       "      <td>2963</td>\n",
       "      <td>1485</td>\n",
       "      <td>5519</td>\n",
       "      <td>3589</td>\n",
       "      <td>5047</td>\n",
       "      <td>5034</td>\n",
       "      <td>1414</td>\n",
       "      <td>NaN</td>\n",
       "      <td>1414</td>\n",
       "      <td>1451</td>\n",
       "      <td>...</td>\n",
       "      <td>NaN</td>\n",
       "      <td>NaN</td>\n",
       "      <td>NaN</td>\n",
       "      <td>NaN</td>\n",
       "      <td>NaN</td>\n",
       "      <td>NaN</td>\n",
       "      <td>NaN</td>\n",
       "      <td>NaN</td>\n",
       "      <td>NaN</td>\n",
       "      <td>NaN</td>\n",
       "    </tr>\n",
       "    <tr>\n",
       "      <th>mean</th>\n",
       "      <td>NaN</td>\n",
       "      <td>NaN</td>\n",
       "      <td>NaN</td>\n",
       "      <td>NaN</td>\n",
       "      <td>NaN</td>\n",
       "      <td>NaN</td>\n",
       "      <td>NaN</td>\n",
       "      <td>21418.639625</td>\n",
       "      <td>NaN</td>\n",
       "      <td>NaN</td>\n",
       "      <td>...</td>\n",
       "      <td>5.085548</td>\n",
       "      <td>5.379160</td>\n",
       "      <td>5.295996</td>\n",
       "      <td>4.822538</td>\n",
       "      <td>5.279196</td>\n",
       "      <td>4.830820</td>\n",
       "      <td>4.726401</td>\n",
       "      <td>4.779846</td>\n",
       "      <td>5.205246</td>\n",
       "      <td>4.607866</td>\n",
       "    </tr>\n",
       "    <tr>\n",
       "      <th>std</th>\n",
       "      <td>NaN</td>\n",
       "      <td>NaN</td>\n",
       "      <td>NaN</td>\n",
       "      <td>NaN</td>\n",
       "      <td>NaN</td>\n",
       "      <td>NaN</td>\n",
       "      <td>NaN</td>\n",
       "      <td>6081.664912</td>\n",
       "      <td>NaN</td>\n",
       "      <td>NaN</td>\n",
       "      <td>...</td>\n",
       "      <td>0.638095</td>\n",
       "      <td>0.820812</td>\n",
       "      <td>0.845073</td>\n",
       "      <td>0.580413</td>\n",
       "      <td>0.606434</td>\n",
       "      <td>0.492580</td>\n",
       "      <td>0.454465</td>\n",
       "      <td>0.550750</td>\n",
       "      <td>0.602246</td>\n",
       "      <td>0.416202</td>\n",
       "    </tr>\n",
       "    <tr>\n",
       "      <th>min</th>\n",
       "      <td>NaN</td>\n",
       "      <td>NaN</td>\n",
       "      <td>NaN</td>\n",
       "      <td>NaN</td>\n",
       "      <td>NaN</td>\n",
       "      <td>NaN</td>\n",
       "      <td>NaN</td>\n",
       "      <td>54.000000</td>\n",
       "      <td>NaN</td>\n",
       "      <td>NaN</td>\n",
       "      <td>...</td>\n",
       "      <td>4.114700</td>\n",
       "      <td>4.118300</td>\n",
       "      <td>4.124400</td>\n",
       "      <td>4.130300</td>\n",
       "      <td>4.175700</td>\n",
       "      <td>4.139700</td>\n",
       "      <td>4.117200</td>\n",
       "      <td>4.115800</td>\n",
       "      <td>4.123100</td>\n",
       "      <td>4.116000</td>\n",
       "    </tr>\n",
       "    <tr>\n",
       "      <th>25%</th>\n",
       "      <td>NaN</td>\n",
       "      <td>NaN</td>\n",
       "      <td>NaN</td>\n",
       "      <td>NaN</td>\n",
       "      <td>NaN</td>\n",
       "      <td>NaN</td>\n",
       "      <td>NaN</td>\n",
       "      <td>18058.250000</td>\n",
       "      <td>NaN</td>\n",
       "      <td>NaN</td>\n",
       "      <td>...</td>\n",
       "      <td>4.546950</td>\n",
       "      <td>4.722500</td>\n",
       "      <td>4.678600</td>\n",
       "      <td>4.504700</td>\n",
       "      <td>4.943100</td>\n",
       "      <td>4.506225</td>\n",
       "      <td>4.489600</td>\n",
       "      <td>4.496900</td>\n",
       "      <td>4.703450</td>\n",
       "      <td>4.466000</td>\n",
       "    </tr>\n",
       "    <tr>\n",
       "      <th>50%</th>\n",
       "      <td>NaN</td>\n",
       "      <td>NaN</td>\n",
       "      <td>NaN</td>\n",
       "      <td>NaN</td>\n",
       "      <td>NaN</td>\n",
       "      <td>NaN</td>\n",
       "      <td>NaN</td>\n",
       "      <td>22126.500000</td>\n",
       "      <td>NaN</td>\n",
       "      <td>NaN</td>\n",
       "      <td>...</td>\n",
       "      <td>4.965800</td>\n",
       "      <td>5.262200</td>\n",
       "      <td>5.193700</td>\n",
       "      <td>4.575700</td>\n",
       "      <td>5.265200</td>\n",
       "      <td>4.648200</td>\n",
       "      <td>4.550800</td>\n",
       "      <td>4.551200</td>\n",
       "      <td>5.190600</td>\n",
       "      <td>4.518600</td>\n",
       "    </tr>\n",
       "    <tr>\n",
       "      <th>75%</th>\n",
       "      <td>NaN</td>\n",
       "      <td>NaN</td>\n",
       "      <td>NaN</td>\n",
       "      <td>NaN</td>\n",
       "      <td>NaN</td>\n",
       "      <td>NaN</td>\n",
       "      <td>NaN</td>\n",
       "      <td>25682.750000</td>\n",
       "      <td>NaN</td>\n",
       "      <td>NaN</td>\n",
       "      <td>...</td>\n",
       "      <td>5.407850</td>\n",
       "      <td>5.881975</td>\n",
       "      <td>5.562550</td>\n",
       "      <td>5.054100</td>\n",
       "      <td>5.545700</td>\n",
       "      <td>5.094750</td>\n",
       "      <td>4.877275</td>\n",
       "      <td>4.919750</td>\n",
       "      <td>5.572875</td>\n",
       "      <td>4.562700</td>\n",
       "    </tr>\n",
       "    <tr>\n",
       "      <th>max</th>\n",
       "      <td>NaN</td>\n",
       "      <td>NaN</td>\n",
       "      <td>NaN</td>\n",
       "      <td>NaN</td>\n",
       "      <td>NaN</td>\n",
       "      <td>NaN</td>\n",
       "      <td>NaN</td>\n",
       "      <td>32872.000000</td>\n",
       "      <td>NaN</td>\n",
       "      <td>NaN</td>\n",
       "      <td>...</td>\n",
       "      <td>11.927800</td>\n",
       "      <td>13.844200</td>\n",
       "      <td>11.744100</td>\n",
       "      <td>14.793100</td>\n",
       "      <td>14.765200</td>\n",
       "      <td>14.113500</td>\n",
       "      <td>11.712500</td>\n",
       "      <td>11.648900</td>\n",
       "      <td>11.651200</td>\n",
       "      <td>11.653300</td>\n",
       "    </tr>\n",
       "  </tbody>\n",
       "</table>\n",
       "<p>11 rows × 20010 columns</p>\n",
       "</div>"
      ],
      "text/plain": [
       "                       DiseaseType CancerType     SampleType Gender   Race  \\\n",
       "count                         6802       6802           6802   6774   5901   \n",
       "unique                          21         10              6      2      6   \n",
       "top     AdenomasAndAdenocarcinomas     Breast  Primary Tumor   male  white   \n",
       "freq                          2963       1485           5519   3589   5047   \n",
       "mean                           NaN        NaN            NaN    NaN    NaN   \n",
       "std                            NaN        NaN            NaN    NaN    NaN   \n",
       "min                            NaN        NaN            NaN    NaN    NaN   \n",
       "25%                            NaN        NaN            NaN    NaN    NaN   \n",
       "50%                            NaN        NaN            NaN    NaN    NaN   \n",
       "75%                            NaN        NaN            NaN    NaN    NaN   \n",
       "max                            NaN        NaN            NaN    NaN    NaN   \n",
       "\n",
       "                     Ethnicity     PrimaryDiagnosis  AgeAtDiagnosis  \\\n",
       "count                     5249                 6617     6718.000000   \n",
       "unique                       2                   66             NaN   \n",
       "top     not hispanic or latino  Adenocarcinoma, NOS             NaN   \n",
       "freq                      5034                 1414             NaN   \n",
       "mean                       NaN                  NaN    21418.639625   \n",
       "std                        NaN                  NaN     6081.664912   \n",
       "min                        NaN                  NaN       54.000000   \n",
       "25%                        NaN                  NaN    18058.250000   \n",
       "50%                        NaN                  NaN    22126.500000   \n",
       "75%                        NaN                  NaN    25682.750000   \n",
       "max                        NaN                  NaN    32872.000000   \n",
       "\n",
       "       Morphology TissueOrOrganOfOrigin  ...  X220558_x_at   X220559_at  \\\n",
       "count        6774                  6617  ...   6802.000000  6802.000000   \n",
       "unique         68                    46  ...           NaN          NaN   \n",
       "top        8140/3           Breast, NOS  ...           NaN          NaN   \n",
       "freq         1414                  1451  ...           NaN          NaN   \n",
       "mean          NaN                   NaN  ...      5.085548     5.379160   \n",
       "std           NaN                   NaN  ...      0.638095     0.820812   \n",
       "min           NaN                   NaN  ...      4.114700     4.118300   \n",
       "25%           NaN                   NaN  ...      4.546950     4.722500   \n",
       "50%           NaN                   NaN  ...      4.965800     5.262200   \n",
       "75%           NaN                   NaN  ...      5.407850     5.881975   \n",
       "max           NaN                   NaN  ...     11.927800    13.844200   \n",
       "\n",
       "         X220560_at   X220561_at   X220562_at  X220563_s_at   X220564_at  \\\n",
       "count   6802.000000  6802.000000  6802.000000   6802.000000  6802.000000   \n",
       "unique          NaN          NaN          NaN           NaN          NaN   \n",
       "top             NaN          NaN          NaN           NaN          NaN   \n",
       "freq            NaN          NaN          NaN           NaN          NaN   \n",
       "mean       5.295996     4.822538     5.279196      4.830820     4.726401   \n",
       "std        0.845073     0.580413     0.606434      0.492580     0.454465   \n",
       "min        4.124400     4.130300     4.175700      4.139700     4.117200   \n",
       "25%        4.678600     4.504700     4.943100      4.506225     4.489600   \n",
       "50%        5.193700     4.575700     5.265200      4.648200     4.550800   \n",
       "75%        5.562550     5.054100     5.545700      5.094750     4.877275   \n",
       "max       11.744100    14.793100    14.765200     14.113500    11.712500   \n",
       "\n",
       "         X220565_at   X220566_at   X220567_at  \n",
       "count   6802.000000  6802.000000  6802.000000  \n",
       "unique          NaN          NaN          NaN  \n",
       "top             NaN          NaN          NaN  \n",
       "freq            NaN          NaN          NaN  \n",
       "mean       4.779846     5.205246     4.607866  \n",
       "std        0.550750     0.602246     0.416202  \n",
       "min        4.115800     4.123100     4.116000  \n",
       "25%        4.496900     4.703450     4.466000  \n",
       "50%        4.551200     5.190600     4.518600  \n",
       "75%        4.919750     5.572875     4.562700  \n",
       "max       11.648900    11.651200    11.653300  \n",
       "\n",
       "[11 rows x 20010 columns]"
      ]
     },
     "execution_count": 39,
     "metadata": {},
     "output_type": "execute_result"
    }
   ],
   "source": [
    "all_data.describe(include='all')"
   ]
  },
  {
   "cell_type": "code",
   "execution_count": 42,
   "id": "f2bb5e5d",
   "metadata": {},
   "outputs": [
    {
     "data": {
      "text/plain": [
       "DiseaseType       0\n",
       "CancerType        0\n",
       "SampleType        0\n",
       "Gender           28\n",
       "Race            901\n",
       "               ... \n",
       "X220563_s_at      0\n",
       "X220564_at        0\n",
       "X220565_at        0\n",
       "X220566_at        0\n",
       "X220567_at        0\n",
       "Length: 20010, dtype: int64"
      ]
     },
     "execution_count": 42,
     "metadata": {},
     "output_type": "execute_result"
    }
   ],
   "source": [
    "all_data.isna().sum()"
   ]
  },
  {
   "cell_type": "code",
   "execution_count": 43,
   "id": "1a2a925a",
   "metadata": {},
   "outputs": [],
   "source": [
    "all_data.dropna(axis=0, how='any', inplace=True)"
   ]
  },
  {
   "cell_type": "code",
   "execution_count": 44,
   "id": "591049b8",
   "metadata": {},
   "outputs": [
    {
     "data": {
      "text/plain": [
       "(5068, 20010)"
      ]
     },
     "execution_count": 44,
     "metadata": {},
     "output_type": "execute_result"
    }
   ],
   "source": [
    "all_data.shape"
   ]
  },
  {
   "cell_type": "code",
   "execution_count": 46,
   "id": "74017388",
   "metadata": {},
   "outputs": [],
   "source": [
    "dataframe=all_data"
   ]
  },
  {
   "cell_type": "code",
   "execution_count": 47,
   "id": "ccae1b54",
   "metadata": {},
   "outputs": [],
   "source": [
    "X= dataframe.iloc[:, :-1]\n",
    "y=dataframe['CancerType']\n",
    "\n"
   ]
  },
  {
   "cell_type": "code",
   "execution_count": 48,
   "id": "c21b0fab",
   "metadata": {},
   "outputs": [],
   "source": [
    "X_train,X_test,y_train,y_test = train_test_split(X,y,stratify=y,test_size=0.3,random_state=0) "
   ]
  },
  {
   "cell_type": "code",
   "execution_count": 49,
   "id": "c4c8f1e0",
   "metadata": {},
   "outputs": [],
   "source": [
    "numerical_ix= X.select_dtypes(include=['int64','float64']).columns\n",
    "categorical_ix = X.select_dtypes(include=['object', 'bool']).columns\n"
   ]
  },
  {
   "cell_type": "code",
   "execution_count": 50,
   "id": "344afbe1",
   "metadata": {},
   "outputs": [],
   "source": [
    "#from sklearn.preprocessing import MinMaxScaler\n",
    "from sklearn.preprocessing import StandardScaler\n",
    "#one hot encoding categorical predictors\n",
    "t=[('cat', OneHotEncoder(handle_unknown='ignore'), categorical_ix), ('num', StandardScaler(), numerical_ix)]\n",
    "col_transform=ColumnTransformer(transformers=t)\n",
    "X_transform=col_transform.fit_transform(X_train)"
   ]
  },
  {
   "cell_type": "code",
   "execution_count": 51,
   "id": "6138ffa0",
   "metadata": {},
   "outputs": [],
   "source": [
    "X_test=col_transform.transform(X_test)"
   ]
  },
  {
   "cell_type": "code",
   "execution_count": 52,
   "id": "5619b251",
   "metadata": {},
   "outputs": [],
   "source": [
    "le = LabelEncoder()\n",
    "le.fit(y_train)\n",
    "y_train_enc= le.transform(y_train)\n",
    "y_test_enc=le.transform(y_test)"
   ]
  },
  {
   "cell_type": "code",
   "execution_count": 53,
   "id": "e6259b44",
   "metadata": {},
   "outputs": [],
   "source": [
    "# Define SMOTE-Tomek Links\n",
    "resample=SMOTETomek(tomek=TomekLinks(sampling_strategy='majority'))\n",
    "X_samp, y_samp = resample.fit_resample(X_transform, y_train_enc)\n"
   ]
  },
  {
   "cell_type": "code",
   "execution_count": 15,
   "id": "9c63240c",
   "metadata": {
    "scrolled": true
   },
   "outputs": [],
   "source": [
    "# sns.countplot(y_train)\n",
    "# plt.xticks(rotation=45)\n",
    "# plt.show()"
   ]
  },
  {
   "cell_type": "code",
   "execution_count": 16,
   "id": "7778244d",
   "metadata": {},
   "outputs": [],
   "source": [
    "# scaler = preprocessing.StandardScaler().fit(X_train)\n",
    "# X_scaled = scaler.transform(X_train)"
   ]
  },
  {
   "cell_type": "code",
   "execution_count": 17,
   "id": "a7117dc7",
   "metadata": {},
   "outputs": [],
   "source": [
    "\n",
    "#X_test=scaler.transform(X_test)"
   ]
  },
  {
   "cell_type": "code",
   "execution_count": 54,
   "id": "03dd040d",
   "metadata": {},
   "outputs": [
    {
     "name": "stderr",
     "output_type": "stream",
     "text": [
      "/Users/madhuri/Library/Python/3.8/lib/python/site-packages/seaborn/_decorators.py:36: FutureWarning: Pass the following variable as a keyword arg: x. From version 0.12, the only valid positional argument will be `data`, and passing other arguments without an explicit keyword will result in an error or misinterpretation.\n",
      "  warnings.warn(\n"
     ]
    },
    {
     "data": {
      "image/png": "[encoded data removed]",
      "text/plain": [
       "<Figure size 432x288 with 1 Axes>"
      ]
     },
     "metadata": {
      "needs_background": "light"
     },
     "output_type": "display_data"
    }
   ],
   "source": [
    "\n",
    "# sns.countplot(y_samp)\n",
    "# plt.xticks(rotation=45)\n",
    "# plt.title(\"SMOTE TOMEK Balancing\")\n",
    "# plt.savefig('Stomekcount.png')\n",
    "# plt.show()"
   ]
  },
  {
   "cell_type": "code",
   "execution_count": 55,
   "id": "082a06c6",
   "metadata": {},
   "outputs": [],
   "source": [
    "# le = LabelEncoder()\n",
    "# le.fit(y_train)\n",
    "# y_enc= le.transform(y_train)\n",
    "# y_test=le.transform(y_test)"
   ]
  },
  {
   "cell_type": "code",
   "execution_count": 56,
   "id": "aa5a7ef3",
   "metadata": {},
   "outputs": [
    {
     "data": {
      "text/plain": [
       "1118            Colon\n",
       "2615           Breast\n",
       "6768         Pancreas\n",
       "4799           Kidney\n",
       "6489           Testis\n",
       "            ...      \n",
       "3557           Breast\n",
       "2343            Brain\n",
       "4070           Kidney\n",
       "1334             Skin\n",
       "5824    ProstateGland\n",
       "Name: CancerType, Length: 1521, dtype: object"
      ]
     },
     "execution_count": 56,
     "metadata": {},
     "output_type": "execute_result"
    }
   ],
   "source": [
    "#y_test"
   ]
  },
  {
   "cell_type": "code",
   "execution_count": null,
   "id": "aa51b7b8",
   "metadata": {},
   "outputs": [],
   "source": [
    "# define the multinomial logistic regression model\n",
    "model = LogisticRegression(multi_class='multinomial', solver='sag', max_iter = 2000)\n",
    "# define the model evaluation procedure\n",
    "cv = RepeatedStratifiedKFold(n_splits=10, n_repeats=3, random_state=1)#make n_repeats=10\n",
    "# evaluate the model and collect the scores\n",
    "n_scores = cross_val_score(model, X_samp, y_samp, scoring='accuracy', cv=cv, n_jobs=-1)\n",
    "# report the model performance\n",
    "print('Mean Accuracy: %.3f (%.3f)' % (mean(n_scores), std(n_scores)))"
   ]
  },
  {
   "cell_type": "code",
   "execution_count": null,
   "id": "63fe3942",
   "metadata": {},
   "outputs": [],
   "source": [
    "model.fit(X_samp,y_samp)"
   ]
  },
  {
   "cell_type": "code",
   "execution_count": null,
   "id": "6e30eba1",
   "metadata": {},
   "outputs": [],
   "source": [
    "y_pred=model.predict(X_test)"
   ]
  },
  {
   "cell_type": "code",
   "execution_count": null,
   "id": "f752fd95",
   "metadata": {},
   "outputs": [],
   "source": [
    "y_pred"
   ]
  },
  {
   "cell_type": "code",
   "execution_count": null,
   "id": "7c9af93d",
   "metadata": {},
   "outputs": [],
   "source": [
    "from sklearn.metrics import confusion_matrix"
   ]
  },
  {
   "cell_type": "code",
   "execution_count": null,
   "id": "582a8f05",
   "metadata": {},
   "outputs": [],
   "source": [
    "confusion_matrix(y_test_enc,y_pred)"
   ]
  },
  {
   "cell_type": "code",
   "execution_count": null,
   "id": "213bad90",
   "metadata": {},
   "outputs": [],
   "source": [
    "from sklearn import metrics\n",
    "from sklearn.metrics import *"
   ]
  },
  {
   "cell_type": "code",
   "execution_count": null,
   "id": "00d97b52",
   "metadata": {
    "scrolled": true
   },
   "outputs": [],
   "source": [
    "#f1_score(y_test_enc, y_pred, average='micro') #use macro for multiclass because micro gives same value as accuracy"
   ]
  },
  {
   "cell_type": "code",
   "execution_count": null,
   "id": "96efef3e",
   "metadata": {
    "scrolled": true
   },
   "outputs": [],
   "source": [
    "f1_score(y_test_enc, y_pred, average='macro')"
   ]
  },
  {
   "cell_type": "code",
   "execution_count": null,
   "id": "43c20e9f",
   "metadata": {
    "scrolled": true
   },
   "outputs": [],
   "source": [
    "metrics.accuracy_score(y_test_enc,y_pred)*100"
   ]
  },
  {
   "cell_type": "code",
   "execution_count": null,
   "id": "e06435af",
   "metadata": {
    "scrolled": true
   },
   "outputs": [],
   "source": [
    "print(metrics.classification_report(y_test_enc, y_pred, digits=3))"
   ]
  },
  {
   "cell_type": "code",
   "execution_count": null,
   "id": "404a70bb",
   "metadata": {},
   "outputs": [],
   "source": []
  }
 ],
 "metadata": {
  "kernelspec": {
   "display_name": "Python 3 (ipykernel)",
   "language": "python",
   "name": "python3"
  },
  "language_info": {
   "codemirror_mode": {
    "name": "ipython",
    "version": 3
   },
   "file_extension": ".py",
   "mimetype": "text/x-python",
   "name": "python",
   "nbconvert_exporter": "python",
   "pygments_lexer": "ipython3",
   "version": "3.9.13"
  }
 },
 "nbformat": 4,
 "nbformat_minor": 5
}
