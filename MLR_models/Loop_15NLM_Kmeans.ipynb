{
 "cells": [
  {
   "cell_type": "code",
   "execution_count": null,
   "id": "9812193f",
   "metadata": {},
   "outputs": [],
   "source": [
    "#silhouette scores"
   ]
  },
  {
   "cell_type": "code",
   "execution_count": 1,
   "id": "86bcd111",
   "metadata": {},
   "outputs": [],
   "source": [
    "import matplotlib.pyplot as plt\n",
    "import numpy as np\n",
    "import pandas as pd\n",
    "import sklearn\n",
    "from sklearn.datasets import fetch_openml\n",
    "import seaborn as sns\n",
    "from sklearn.cluster import KMeans\n",
    "\n",
    "from sklearn.inspection import permutation_importance\n",
    "from sklearn.preprocessing import StandardScaler\n",
    "from sklearn.model_selection import train_test_split\n",
    "from sklearn.preprocessing import LabelEncoder\n",
    "from sklearn.preprocessing import OneHotEncoder\n",
    "from sklearn.model_selection import train_test_split\n",
    "from sklearn.metrics import silhouette_samples, silhouette_score\n",
    "from sklearn import metrics\n",
    "from sklearn.metrics import classification_report\n",
    "from sklearn.metrics import classification_report\n",
    "%matplotlib notebook"
   ]
  },
  {
   "cell_type": "code",
   "execution_count": 2,
   "id": "a7c9db61",
   "metadata": {},
   "outputs": [
    {
     "name": "stdout",
     "output_type": "stream",
     "text": [
      "['NLM_Genes8.csv', 'NLM_Genes9.csv', 'NLM_Genes7.csv', 'NLM_Genes12.csv', 'NLM_Genes13.csv', 'NLM_Genes6.csv', 'NLM_Genes4.csv', 'NLM_Genes11.csv', 'NLM_Genes10.csv', 'NLM_Genes5.csv', 'NLM_Genes1.csv', 'NLM_Genes14.csv', 'NLM_Genes0.csv', 'NLM_Genes2.csv', 'NLM_Genes3.csv']\n"
     ]
    }
   ],
   "source": [
    "import os\n",
    "file_list=[]\n",
    "#path_of_the_directory = '/storage/home/mpg5798/work/Non LandmarkGenes'\n",
    "for files in os.listdir():\n",
    "    if ((files.startswith(\"NLM\")) & (files.endswith('.csv'))):\n",
    "        file_list.append(files)\n",
    "print(file_list)"
   ]
  },
  {
   "cell_type": "code",
   "execution_count": 3,
   "id": "e10d57aa",
   "metadata": {},
   "outputs": [],
   "source": [
    "pd.options.mode.chained_assignment = None"
   ]
  },
  {
   "cell_type": "code",
   "execution_count": 4,
   "id": "57695573",
   "metadata": {},
   "outputs": [
    {
     "name": "stdout",
     "output_type": "stream",
     "text": [
      "0.3747846024035034\n",
      "0.3903777682405147\n",
      "0.3613577571186589\n",
      "0.3621895625933277\n",
      "0.37810852676789186\n",
      "0.3841715552899803\n",
      "0.37583839968616434\n",
      "0.3663762321456101\n",
      "0.35778166931062727\n",
      "0.37015040146361455\n",
      "0.37946499391413924\n",
      "0.36973115383625177\n",
      "0.39148594619716487\n",
      "0.3743283804674572\n",
      "0.3687340496020877\n"
     ]
    }
   ],
   "source": [
    "for i in range(15):\n",
    "    df_gene = pd.read_csv(file_list[i])\n",
    "    nlm_df=df_gene.iloc[:-1,1:] #6802 r0ws 978 columns\n",
    "    df_unscaled=nlm_df.T\n",
    "    scaler =StandardScaler()\n",
    "    df=scaler.fit_transform(df_unscaled)\n",
    "    #building kmeans model with  clusters (based on the elbow curve, n_clusters is chosen )\n",
    "    kmeans = KMeans(n_clusters=4, random_state=10).fit(df)\n",
    "    #predicting with the kmeans clustering model\n",
    "    clusters=kmeans.predict(df) #cluster labels (kmeans.labels_)\n",
    "    # dict to store clusters data\n",
    "    cluster_dict=[]\n",
    "    \n",
    "    #for c in clusters:\n",
    "        #cluster_dict.append(c)\n",
    "        # adds the cluster information as a column in the df\n",
    "    df_unscaled['cluster'] = clusters\n",
    "\n",
    "    #silhoutte score for the model built\n",
    "    print(metrics.silhouette_score(df, clusters, metric = 'euclidean'))\n",
    "    cluster1=df_unscaled[df_unscaled.cluster==0].drop(['cluster'],axis=1)\n",
    "    cluster2=df_unscaled[df_unscaled.cluster==1].drop(['cluster'],axis=1)\n",
    "    cluster3=df_unscaled[df_unscaled.cluster==2].drop(['cluster'],axis=1)\n",
    "    cluster4=df_unscaled[df_unscaled.cluster==3].drop(['cluster'],axis=1)\n",
    "    cluster1_transpose=cluster1.T\n",
    "    cluster2_transpose=cluster2.T\n",
    "    cluster3_transpose=cluster3.T\n",
    "    cluster4_transpose=cluster4.T\n",
    "    cluster1_transpose.to_csv('nlm_c1_'+ str(i)+'.csv',index=False)\n",
    "    cluster2_transpose.to_csv('nlm_c2_'+ str(i) +'.csv',index=False)\n",
    "    cluster3_transpose.to_csv('nlm_c3_'+str(i)+'.csv',index=False)\n",
    "    cluster4_transpose.to_csv('nlm_c4_'+str(i)+'.csv',index=False)\n",
    "    \n",
    "    "
   ]
  },
  {
   "cell_type": "code",
   "execution_count": null,
   "id": "a3dec879",
   "metadata": {},
   "outputs": [],
   "source": []
  }
 ],
 "metadata": {
  "kernelspec": {
   "display_name": "Python 3 (ipykernel)",
   "language": "python",
   "name": "python3"
  },
  "language_info": {
   "codemirror_mode": {
    "name": "ipython",
    "version": 3
   },
   "file_extension": ".py",
   "mimetype": "text/x-python",
   "name": "python",
   "nbconvert_exporter": "python",
   "pygments_lexer": "ipython3",
   "version": "3.10.6"
  }
 },
 "nbformat": 4,
 "nbformat_minor": 5
}
