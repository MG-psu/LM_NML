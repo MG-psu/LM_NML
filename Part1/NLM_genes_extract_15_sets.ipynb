{
 "cells": [
  {
   "cell_type": "code",
   "execution_count": 2,
   "metadata": {},
   "outputs": [],
   "source": [
    "#!pip install cmapPy -q\n",
    "import pandas as pd"
   ]
  },
  {
   "cell_type": "code",
   "execution_count": 2,
   "metadata": {},
   "outputs": [],
   "source": [
    "#!pip install GEOparse"
   ]
  },
  {
   "cell_type": "code",
   "execution_count": 1,
   "metadata": {},
   "outputs": [
    {
     "name": "stdout",
     "output_type": "stream",
     "text": [
      "4.0.1\n"
     ]
    }
   ],
   "source": [
    "# cmapPy package is used to load the .gctx data used for this project.\n",
    "# https://cmappy.readthedocs.io/en/latest/build.html#install - For information regarding the installation of this package.\n",
    "import cmapPy\n",
    "import pkg_resources\n",
    "pkg_resources.get_distribution(\"cmapPy\").version\n",
    "import GEOparse\n",
    "\n",
    "print(pkg_resources.get_distribution(\"cmapPy\").version)\n",
    "file_path = 'bgedv2_QNORM.gctx'"
   ]
  },
  {
   "cell_type": "code",
   "execution_count": 3,
   "metadata": {},
   "outputs": [],
   "source": [
    "from cmapPy.pandasGEXpress.parse import parse"
   ]
  },
  {
   "cell_type": "code",
   "execution_count": 4,
   "metadata": {},
   "outputs": [],
   "source": [
    "# Code used to parse the dataset\n",
    "# rows are from the range of 979 - 22268 indicate the non-landmark set of genes and \n",
    "# columns from 40794 to 129157 indicate GSMId Genes\n",
    "\n",
    "# expr_mat_1 = parse(file_path, ridx=range(979,22268), cidx=range(40794,41794),  col_meta_only=False,row_meta_only=False,\n",
    "# convert_neg_666=True)\n",
    "#expr_mat_1 = parse(file_path,  ridx=range(1,10), cidx=range(1,10), col_meta_only=False,row_meta_only=False,\n",
    "#convert_neg_666=True)"
   ]
  },
  {
   "cell_type": "code",
   "execution_count": 5,
   "metadata": {},
   "outputs": [],
   "source": [
    "#expr_mat_1.data_df.head()"
   ]
  },
  {
   "cell_type": "code",
   "execution_count": 6,
   "metadata": {},
   "outputs": [],
   "source": [
    "#df=expr_mat_1.data_df.T"
   ]
  },
  {
   "cell_type": "code",
   "execution_count": 7,
   "metadata": {},
   "outputs": [],
   "source": [
    "#df.to_csv(\"nonlm_gene_gsm.csv\", sep='\\t')"
   ]
  },
  {
   "cell_type": "code",
   "execution_count": 9,
   "metadata": {},
   "outputs": [
    {
     "data": {
      "text/html": [
       "<div>\n",
       "<style scoped>\n",
       "    .dataframe tbody tr th:only-of-type {\n",
       "        vertical-align: middle;\n",
       "    }\n",
       "\n",
       "    .dataframe tbody tr th {\n",
       "        vertical-align: top;\n",
       "    }\n",
       "\n",
       "    .dataframe thead th {\n",
       "        text-align: right;\n",
       "    }\n",
       "</style>\n",
       "<table border=\"1\" class=\"dataframe\">\n",
       "  <thead>\n",
       "    <tr style=\"text-align: right;\">\n",
       "      <th></th>\n",
       "      <th>cid</th>\n",
       "      <th>200618_at</th>\n",
       "      <th>200811_at</th>\n",
       "      <th>201007_at</th>\n",
       "      <th>201127_s_at</th>\n",
       "      <th>201153_s_at</th>\n",
       "      <th>201161_s_at</th>\n",
       "      <th>201207_at</th>\n",
       "      <th>201223_s_at</th>\n",
       "      <th>201225_s_at</th>\n",
       "      <th>...</th>\n",
       "      <th>AFFX-r2-Ec-bioD-3_at</th>\n",
       "      <th>AFFX-r2-Ec-bioD-5_at</th>\n",
       "      <th>AFFX-r2-P1-cre-3_at</th>\n",
       "      <th>AFFX-r2-P1-cre-5_at</th>\n",
       "      <th>AFFX-ThrX-3_at</th>\n",
       "      <th>AFFX-ThrX-5_at</th>\n",
       "      <th>AFFX-ThrX-M_at</th>\n",
       "      <th>AFFX-TrpnX-3_at</th>\n",
       "      <th>AFFX-TrpnX-5_at</th>\n",
       "      <th>AFFX-TrpnX-M_at</th>\n",
       "    </tr>\n",
       "  </thead>\n",
       "  <tbody>\n",
       "    <tr>\n",
       "      <th>0</th>\n",
       "      <td>GSM100455</td>\n",
       "      <td>11.5294</td>\n",
       "      <td>10.6107</td>\n",
       "      <td>10.0431</td>\n",
       "      <td>7.6647</td>\n",
       "      <td>11.3933</td>\n",
       "      <td>8.8258</td>\n",
       "      <td>8.0107</td>\n",
       "      <td>9.4148</td>\n",
       "      <td>11.4106</td>\n",
       "      <td>...</td>\n",
       "      <td>12.5095</td>\n",
       "      <td>12.4241</td>\n",
       "      <td>14.9210</td>\n",
       "      <td>14.8059</td>\n",
       "      <td>4.3104</td>\n",
       "      <td>4.1793</td>\n",
       "      <td>4.4461</td>\n",
       "      <td>4.2078</td>\n",
       "      <td>4.3053</td>\n",
       "      <td>4.1794</td>\n",
       "    </tr>\n",
       "    <tr>\n",
       "      <th>1</th>\n",
       "      <td>GSM100456</td>\n",
       "      <td>10.7827</td>\n",
       "      <td>10.3296</td>\n",
       "      <td>10.5745</td>\n",
       "      <td>7.6639</td>\n",
       "      <td>11.7147</td>\n",
       "      <td>5.9240</td>\n",
       "      <td>7.7075</td>\n",
       "      <td>9.5450</td>\n",
       "      <td>11.4654</td>\n",
       "      <td>...</td>\n",
       "      <td>11.6512</td>\n",
       "      <td>11.1830</td>\n",
       "      <td>14.7331</td>\n",
       "      <td>14.5845</td>\n",
       "      <td>4.4847</td>\n",
       "      <td>4.2073</td>\n",
       "      <td>4.3884</td>\n",
       "      <td>4.1850</td>\n",
       "      <td>4.1851</td>\n",
       "      <td>4.1851</td>\n",
       "    </tr>\n",
       "    <tr>\n",
       "      <th>2</th>\n",
       "      <td>GSM100457</td>\n",
       "      <td>10.7046</td>\n",
       "      <td>10.9255</td>\n",
       "      <td>10.1672</td>\n",
       "      <td>8.2440</td>\n",
       "      <td>10.8289</td>\n",
       "      <td>11.4300</td>\n",
       "      <td>7.5817</td>\n",
       "      <td>9.4619</td>\n",
       "      <td>11.4654</td>\n",
       "      <td>...</td>\n",
       "      <td>11.9649</td>\n",
       "      <td>12.0966</td>\n",
       "      <td>14.7102</td>\n",
       "      <td>14.6577</td>\n",
       "      <td>4.2012</td>\n",
       "      <td>4.2452</td>\n",
       "      <td>4.2012</td>\n",
       "      <td>4.2013</td>\n",
       "      <td>4.2014</td>\n",
       "      <td>4.2015</td>\n",
       "    </tr>\n",
       "    <tr>\n",
       "      <th>3</th>\n",
       "      <td>GSM100458</td>\n",
       "      <td>10.8390</td>\n",
       "      <td>10.6068</td>\n",
       "      <td>11.3389</td>\n",
       "      <td>7.4521</td>\n",
       "      <td>11.6512</td>\n",
       "      <td>12.2771</td>\n",
       "      <td>7.6319</td>\n",
       "      <td>8.3394</td>\n",
       "      <td>10.7757</td>\n",
       "      <td>...</td>\n",
       "      <td>12.1263</td>\n",
       "      <td>12.3004</td>\n",
       "      <td>14.7102</td>\n",
       "      <td>14.6246</td>\n",
       "      <td>4.1889</td>\n",
       "      <td>4.2041</td>\n",
       "      <td>4.6086</td>\n",
       "      <td>4.1736</td>\n",
       "      <td>4.2211</td>\n",
       "      <td>4.1736</td>\n",
       "    </tr>\n",
       "    <tr>\n",
       "      <th>4</th>\n",
       "      <td>GSM100459</td>\n",
       "      <td>10.7005</td>\n",
       "      <td>10.1007</td>\n",
       "      <td>9.7278</td>\n",
       "      <td>7.4774</td>\n",
       "      <td>12.0131</td>\n",
       "      <td>7.6152</td>\n",
       "      <td>7.6323</td>\n",
       "      <td>9.6905</td>\n",
       "      <td>11.7058</td>\n",
       "      <td>...</td>\n",
       "      <td>12.1809</td>\n",
       "      <td>12.1128</td>\n",
       "      <td>14.9198</td>\n",
       "      <td>14.8371</td>\n",
       "      <td>4.2875</td>\n",
       "      <td>4.7375</td>\n",
       "      <td>4.4950</td>\n",
       "      <td>4.2041</td>\n",
       "      <td>4.2042</td>\n",
       "      <td>4.2043</td>\n",
       "    </tr>\n",
       "  </tbody>\n",
       "</table>\n",
       "<p>5 rows × 21290 columns</p>\n",
       "</div>"
      ],
      "text/plain": [
       "         cid  200618_at  200811_at  201007_at  201127_s_at  201153_s_at  \\\n",
       "0  GSM100455    11.5294    10.6107    10.0431       7.6647      11.3933   \n",
       "1  GSM100456    10.7827    10.3296    10.5745       7.6639      11.7147   \n",
       "2  GSM100457    10.7046    10.9255    10.1672       8.2440      10.8289   \n",
       "3  GSM100458    10.8390    10.6068    11.3389       7.4521      11.6512   \n",
       "4  GSM100459    10.7005    10.1007     9.7278       7.4774      12.0131   \n",
       "\n",
       "   201161_s_at  201207_at  201223_s_at  201225_s_at  ...  \\\n",
       "0       8.8258     8.0107       9.4148      11.4106  ...   \n",
       "1       5.9240     7.7075       9.5450      11.4654  ...   \n",
       "2      11.4300     7.5817       9.4619      11.4654  ...   \n",
       "3      12.2771     7.6319       8.3394      10.7757  ...   \n",
       "4       7.6152     7.6323       9.6905      11.7058  ...   \n",
       "\n",
       "   AFFX-r2-Ec-bioD-3_at  AFFX-r2-Ec-bioD-5_at  AFFX-r2-P1-cre-3_at  \\\n",
       "0               12.5095               12.4241              14.9210   \n",
       "1               11.6512               11.1830              14.7331   \n",
       "2               11.9649               12.0966              14.7102   \n",
       "3               12.1263               12.3004              14.7102   \n",
       "4               12.1809               12.1128              14.9198   \n",
       "\n",
       "   AFFX-r2-P1-cre-5_at  AFFX-ThrX-3_at  AFFX-ThrX-5_at  AFFX-ThrX-M_at  \\\n",
       "0              14.8059          4.3104          4.1793          4.4461   \n",
       "1              14.5845          4.4847          4.2073          4.3884   \n",
       "2              14.6577          4.2012          4.2452          4.2012   \n",
       "3              14.6246          4.1889          4.2041          4.6086   \n",
       "4              14.8371          4.2875          4.7375          4.4950   \n",
       "\n",
       "   AFFX-TrpnX-3_at  AFFX-TrpnX-5_at  AFFX-TrpnX-M_at  \n",
       "0           4.2078           4.3053           4.1794  \n",
       "1           4.1850           4.1851           4.1851  \n",
       "2           4.2013           4.2014           4.2015  \n",
       "3           4.1736           4.2211           4.1736  \n",
       "4           4.2041           4.2042           4.2043  \n",
       "\n",
       "[5 rows x 21290 columns]"
      ]
     },
     "execution_count": 9,
     "metadata": {},
     "output_type": "execute_result"
    }
   ],
   "source": [
    "# nonlm_gsm=pd.read_csv(\"nonlm_gene_gsm.csv\", delimiter='\\t')\n",
    "# nonlm_gsm.head()"
   ]
  },
  {
   "cell_type": "code",
   "execution_count": 8,
   "metadata": {},
   "outputs": [],
   "source": [
    "gsm_id_data =  pd.read_csv('gsm_id_intial_info.csv')"
   ]
  },
  {
   "cell_type": "code",
   "execution_count": 9,
   "metadata": {},
   "outputs": [
    {
     "data": {
      "text/plain": [
       "GSM_id                   64918\n",
       "Relapse                    294\n",
       "Age                        642\n",
       "Sex                        760\n",
       "Morphologic.diagnosis    25450\n",
       "CD20.expr.               36970\n",
       "CD10.expr.               45938\n",
       "bcl2.expr.               53485\n",
       "submission_date          59046\n",
       "tissue_name              63104\n",
       "dtype: int64"
      ]
     },
     "execution_count": 9,
     "metadata": {},
     "output_type": "execute_result"
    }
   ],
   "source": [
    "gsm_id_data.isnull().sum()"
   ]
  },
  {
   "cell_type": "code",
   "execution_count": 10,
   "metadata": {},
   "outputs": [
    {
     "data": {
      "text/plain": [
       "75320"
      ]
     },
     "execution_count": 10,
     "metadata": {},
     "output_type": "execute_result"
    }
   ],
   "source": [
    "len(gsm_id_data)"
   ]
  },
  {
   "cell_type": "code",
   "execution_count": 11,
   "metadata": {},
   "outputs": [],
   "source": [
    "#gsm_id_data.head()"
   ]
  },
  {
   "cell_type": "code",
   "execution_count": 12,
   "metadata": {},
   "outputs": [
    {
     "data": {
      "text/plain": [
       "Index(['GSM_id', 'Relapse', 'Age', 'Sex', 'Morphologic.diagnosis',\n",
       "       'CD20.expr.', 'CD10.expr.', 'bcl2.expr.', 'submission_date',\n",
       "       'tissue_name'],\n",
       "      dtype='object')"
      ]
     },
     "execution_count": 12,
     "metadata": {},
     "output_type": "execute_result"
    }
   ],
   "source": [
    "gsm_id_data.columns"
   ]
  },
  {
   "cell_type": "code",
   "execution_count": null,
   "metadata": {},
   "outputs": [],
   "source": []
  },
  {
   "cell_type": "code",
   "execution_count": 15,
   "metadata": {},
   "outputs": [
    {
     "data": {
      "text/html": [
       "<div>\n",
       "<style scoped>\n",
       "    .dataframe tbody tr th:only-of-type {\n",
       "        vertical-align: middle;\n",
       "    }\n",
       "\n",
       "    .dataframe tbody tr th {\n",
       "        vertical-align: top;\n",
       "    }\n",
       "\n",
       "    .dataframe thead th {\n",
       "        text-align: right;\n",
       "    }\n",
       "</style>\n",
       "<table border=\"1\" class=\"dataframe\">\n",
       "  <thead>\n",
       "    <tr style=\"text-align: right;\">\n",
       "      <th></th>\n",
       "      <th>cid</th>\n",
       "      <th>200618_at</th>\n",
       "      <th>200811_at</th>\n",
       "      <th>201007_at</th>\n",
       "      <th>201127_s_at</th>\n",
       "      <th>201153_s_at</th>\n",
       "      <th>201161_s_at</th>\n",
       "      <th>201207_at</th>\n",
       "      <th>201223_s_at</th>\n",
       "      <th>201225_s_at</th>\n",
       "      <th>...</th>\n",
       "      <th>AFFX-r2-Ec-bioD-3_at</th>\n",
       "      <th>AFFX-r2-Ec-bioD-5_at</th>\n",
       "      <th>AFFX-r2-P1-cre-3_at</th>\n",
       "      <th>AFFX-r2-P1-cre-5_at</th>\n",
       "      <th>AFFX-ThrX-3_at</th>\n",
       "      <th>AFFX-ThrX-5_at</th>\n",
       "      <th>AFFX-ThrX-M_at</th>\n",
       "      <th>AFFX-TrpnX-3_at</th>\n",
       "      <th>AFFX-TrpnX-5_at</th>\n",
       "      <th>AFFX-TrpnX-M_at</th>\n",
       "    </tr>\n",
       "  </thead>\n",
       "  <tbody>\n",
       "    <tr>\n",
       "      <th>0</th>\n",
       "      <td>GSM100455</td>\n",
       "      <td>11.5294</td>\n",
       "      <td>10.6107</td>\n",
       "      <td>10.0431</td>\n",
       "      <td>7.6647</td>\n",
       "      <td>11.3933</td>\n",
       "      <td>8.8258</td>\n",
       "      <td>8.0107</td>\n",
       "      <td>9.4148</td>\n",
       "      <td>11.4106</td>\n",
       "      <td>...</td>\n",
       "      <td>12.5095</td>\n",
       "      <td>12.4241</td>\n",
       "      <td>14.9210</td>\n",
       "      <td>14.8059</td>\n",
       "      <td>4.3104</td>\n",
       "      <td>4.1793</td>\n",
       "      <td>4.4461</td>\n",
       "      <td>4.2078</td>\n",
       "      <td>4.3053</td>\n",
       "      <td>4.1794</td>\n",
       "    </tr>\n",
       "    <tr>\n",
       "      <th>1</th>\n",
       "      <td>GSM100456</td>\n",
       "      <td>10.7827</td>\n",
       "      <td>10.3296</td>\n",
       "      <td>10.5745</td>\n",
       "      <td>7.6639</td>\n",
       "      <td>11.7147</td>\n",
       "      <td>5.9240</td>\n",
       "      <td>7.7075</td>\n",
       "      <td>9.5450</td>\n",
       "      <td>11.4654</td>\n",
       "      <td>...</td>\n",
       "      <td>11.6512</td>\n",
       "      <td>11.1830</td>\n",
       "      <td>14.7331</td>\n",
       "      <td>14.5845</td>\n",
       "      <td>4.4847</td>\n",
       "      <td>4.2073</td>\n",
       "      <td>4.3884</td>\n",
       "      <td>4.1850</td>\n",
       "      <td>4.1851</td>\n",
       "      <td>4.1851</td>\n",
       "    </tr>\n",
       "    <tr>\n",
       "      <th>2</th>\n",
       "      <td>GSM100457</td>\n",
       "      <td>10.7046</td>\n",
       "      <td>10.9255</td>\n",
       "      <td>10.1672</td>\n",
       "      <td>8.2440</td>\n",
       "      <td>10.8289</td>\n",
       "      <td>11.4300</td>\n",
       "      <td>7.5817</td>\n",
       "      <td>9.4619</td>\n",
       "      <td>11.4654</td>\n",
       "      <td>...</td>\n",
       "      <td>11.9649</td>\n",
       "      <td>12.0966</td>\n",
       "      <td>14.7102</td>\n",
       "      <td>14.6577</td>\n",
       "      <td>4.2012</td>\n",
       "      <td>4.2452</td>\n",
       "      <td>4.2012</td>\n",
       "      <td>4.2013</td>\n",
       "      <td>4.2014</td>\n",
       "      <td>4.2015</td>\n",
       "    </tr>\n",
       "    <tr>\n",
       "      <th>3</th>\n",
       "      <td>GSM100458</td>\n",
       "      <td>10.8390</td>\n",
       "      <td>10.6068</td>\n",
       "      <td>11.3389</td>\n",
       "      <td>7.4521</td>\n",
       "      <td>11.6512</td>\n",
       "      <td>12.2771</td>\n",
       "      <td>7.6319</td>\n",
       "      <td>8.3394</td>\n",
       "      <td>10.7757</td>\n",
       "      <td>...</td>\n",
       "      <td>12.1263</td>\n",
       "      <td>12.3004</td>\n",
       "      <td>14.7102</td>\n",
       "      <td>14.6246</td>\n",
       "      <td>4.1889</td>\n",
       "      <td>4.2041</td>\n",
       "      <td>4.6086</td>\n",
       "      <td>4.1736</td>\n",
       "      <td>4.2211</td>\n",
       "      <td>4.1736</td>\n",
       "    </tr>\n",
       "    <tr>\n",
       "      <th>4</th>\n",
       "      <td>GSM100459</td>\n",
       "      <td>10.7005</td>\n",
       "      <td>10.1007</td>\n",
       "      <td>9.7278</td>\n",
       "      <td>7.4774</td>\n",
       "      <td>12.0131</td>\n",
       "      <td>7.6152</td>\n",
       "      <td>7.6323</td>\n",
       "      <td>9.6905</td>\n",
       "      <td>11.7058</td>\n",
       "      <td>...</td>\n",
       "      <td>12.1809</td>\n",
       "      <td>12.1128</td>\n",
       "      <td>14.9198</td>\n",
       "      <td>14.8371</td>\n",
       "      <td>4.2875</td>\n",
       "      <td>4.7375</td>\n",
       "      <td>4.4950</td>\n",
       "      <td>4.2041</td>\n",
       "      <td>4.2042</td>\n",
       "      <td>4.2043</td>\n",
       "    </tr>\n",
       "  </tbody>\n",
       "</table>\n",
       "<p>5 rows × 21290 columns</p>\n",
       "</div>"
      ],
      "text/plain": [
       "         cid  200618_at  200811_at  201007_at  201127_s_at  201153_s_at  \\\n",
       "0  GSM100455    11.5294    10.6107    10.0431       7.6647      11.3933   \n",
       "1  GSM100456    10.7827    10.3296    10.5745       7.6639      11.7147   \n",
       "2  GSM100457    10.7046    10.9255    10.1672       8.2440      10.8289   \n",
       "3  GSM100458    10.8390    10.6068    11.3389       7.4521      11.6512   \n",
       "4  GSM100459    10.7005    10.1007     9.7278       7.4774      12.0131   \n",
       "\n",
       "   201161_s_at  201207_at  201223_s_at  201225_s_at  ...  \\\n",
       "0       8.8258     8.0107       9.4148      11.4106  ...   \n",
       "1       5.9240     7.7075       9.5450      11.4654  ...   \n",
       "2      11.4300     7.5817       9.4619      11.4654  ...   \n",
       "3      12.2771     7.6319       8.3394      10.7757  ...   \n",
       "4       7.6152     7.6323       9.6905      11.7058  ...   \n",
       "\n",
       "   AFFX-r2-Ec-bioD-3_at  AFFX-r2-Ec-bioD-5_at  AFFX-r2-P1-cre-3_at  \\\n",
       "0               12.5095               12.4241              14.9210   \n",
       "1               11.6512               11.1830              14.7331   \n",
       "2               11.9649               12.0966              14.7102   \n",
       "3               12.1263               12.3004              14.7102   \n",
       "4               12.1809               12.1128              14.9198   \n",
       "\n",
       "   AFFX-r2-P1-cre-5_at  AFFX-ThrX-3_at  AFFX-ThrX-5_at  AFFX-ThrX-M_at  \\\n",
       "0              14.8059          4.3104          4.1793          4.4461   \n",
       "1              14.5845          4.4847          4.2073          4.3884   \n",
       "2              14.6577          4.2012          4.2452          4.2012   \n",
       "3              14.6246          4.1889          4.2041          4.6086   \n",
       "4              14.8371          4.2875          4.7375          4.4950   \n",
       "\n",
       "   AFFX-TrpnX-3_at  AFFX-TrpnX-5_at  AFFX-TrpnX-M_at  \n",
       "0           4.2078           4.3053           4.1794  \n",
       "1           4.1850           4.1851           4.1851  \n",
       "2           4.2013           4.2014           4.2015  \n",
       "3           4.1736           4.2211           4.1736  \n",
       "4           4.2041           4.2042           4.2043  \n",
       "\n",
       "[5 rows x 21290 columns]"
      ]
     },
     "execution_count": 15,
     "metadata": {},
     "output_type": "execute_result"
    }
   ],
   "source": [
    "#nonlm_gsm.head()"
   ]
  },
  {
   "cell_type": "code",
   "execution_count": 16,
   "metadata": {},
   "outputs": [
    {
     "name": "stdout",
     "output_type": "stream",
     "text": [
      "GSM100455\n"
     ]
    }
   ],
   "source": [
    "# for gsm_id in nonlm_gsm['cid']:\n",
    "#     print(gsm_id)\n",
    "#     break"
   ]
  },
  {
   "cell_type": "code",
   "execution_count": 13,
   "metadata": {},
   "outputs": [],
   "source": [
    "#function to get tissue_type\n",
    "def get_tissue_type(gsm_id):\n",
    "    try:\n",
    "        gse = GEOparse.get_GEO(geo=gsm_id, destdir=\"files/\", silent=True)\n",
    "        #print(*gse.metadata['source_name_ch1'])\n",
    "        return gse.metadata['source_name_ch1'][0]\n",
    "    except :\n",
    "        print('Problem with', gms_id)\n",
    "        #return 'NA'"
   ]
  },
  {
   "cell_type": "code",
   "execution_count": 14,
   "metadata": {},
   "outputs": [],
   "source": [
    "#get_tissue_type('GSM100455')"
   ]
  },
  {
   "cell_type": "code",
   "execution_count": 15,
   "metadata": {},
   "outputs": [],
   "source": [
    "expr_mat_1 = parse(file_path, ridx=range(979,22268), cidx=range(40794,129157),  col_meta_only=False,row_meta_only=False,\n",
    "convert_neg_666=True)"
   ]
  },
  {
   "cell_type": "code",
   "execution_count": 16,
   "metadata": {},
   "outputs": [],
   "source": [
    "gsm_exp_df = expr_mat_1.data_df.T.reset_index()"
   ]
  },
  {
   "cell_type": "code",
   "execution_count": 17,
   "metadata": {},
   "outputs": [],
   "source": [
    "tissue_names = []\n",
    "for gsm in gsm_exp_df['cid']:\n",
    "    #print(gsm,)\n",
    "    tissue_names.append(get_tissue_type(gsm))"
   ]
  },
  {
   "cell_type": "code",
   "execution_count": 18,
   "metadata": {},
   "outputs": [],
   "source": [
    "gsm_exp_df['tissue_name'] = tissue_names"
   ]
  },
  {
   "cell_type": "code",
   "execution_count": 19,
   "metadata": {},
   "outputs": [
    {
     "data": {
      "text/html": [
       "<div>\n",
       "<style scoped>\n",
       "    .dataframe tbody tr th:only-of-type {\n",
       "        vertical-align: middle;\n",
       "    }\n",
       "\n",
       "    .dataframe tbody tr th {\n",
       "        vertical-align: top;\n",
       "    }\n",
       "\n",
       "    .dataframe thead th {\n",
       "        text-align: right;\n",
       "    }\n",
       "</style>\n",
       "<table border=\"1\" class=\"dataframe\">\n",
       "  <thead>\n",
       "    <tr style=\"text-align: right;\">\n",
       "      <th>rid</th>\n",
       "      <th>cid</th>\n",
       "      <th>200618_at</th>\n",
       "      <th>200811_at</th>\n",
       "      <th>201007_at</th>\n",
       "      <th>201127_s_at</th>\n",
       "      <th>201153_s_at</th>\n",
       "      <th>201161_s_at</th>\n",
       "      <th>201207_at</th>\n",
       "      <th>201223_s_at</th>\n",
       "      <th>201225_s_at</th>\n",
       "      <th>...</th>\n",
       "      <th>AFFX-r2-Ec-bioD-5_at</th>\n",
       "      <th>AFFX-r2-P1-cre-3_at</th>\n",
       "      <th>AFFX-r2-P1-cre-5_at</th>\n",
       "      <th>AFFX-ThrX-3_at</th>\n",
       "      <th>AFFX-ThrX-5_at</th>\n",
       "      <th>AFFX-ThrX-M_at</th>\n",
       "      <th>AFFX-TrpnX-3_at</th>\n",
       "      <th>AFFX-TrpnX-5_at</th>\n",
       "      <th>AFFX-TrpnX-M_at</th>\n",
       "      <th>tissue_name</th>\n",
       "    </tr>\n",
       "  </thead>\n",
       "  <tbody>\n",
       "    <tr>\n",
       "      <th>0</th>\n",
       "      <td>GSM100455</td>\n",
       "      <td>11.5294</td>\n",
       "      <td>10.6107</td>\n",
       "      <td>10.0431</td>\n",
       "      <td>7.6647</td>\n",
       "      <td>11.3933</td>\n",
       "      <td>8.8258</td>\n",
       "      <td>8.0107</td>\n",
       "      <td>9.4148</td>\n",
       "      <td>11.4106</td>\n",
       "      <td>...</td>\n",
       "      <td>12.4241</td>\n",
       "      <td>14.9210</td>\n",
       "      <td>14.8059</td>\n",
       "      <td>4.3104</td>\n",
       "      <td>4.1793</td>\n",
       "      <td>4.4461</td>\n",
       "      <td>4.2078</td>\n",
       "      <td>4.3053</td>\n",
       "      <td>4.1794</td>\n",
       "      <td>Frozen tissue</td>\n",
       "    </tr>\n",
       "    <tr>\n",
       "      <th>1</th>\n",
       "      <td>GSM100456</td>\n",
       "      <td>10.7827</td>\n",
       "      <td>10.3296</td>\n",
       "      <td>10.5745</td>\n",
       "      <td>7.6639</td>\n",
       "      <td>11.7147</td>\n",
       "      <td>5.9240</td>\n",
       "      <td>7.7075</td>\n",
       "      <td>9.5450</td>\n",
       "      <td>11.4654</td>\n",
       "      <td>...</td>\n",
       "      <td>11.1830</td>\n",
       "      <td>14.7331</td>\n",
       "      <td>14.5845</td>\n",
       "      <td>4.4847</td>\n",
       "      <td>4.2073</td>\n",
       "      <td>4.3884</td>\n",
       "      <td>4.1850</td>\n",
       "      <td>4.1851</td>\n",
       "      <td>4.1851</td>\n",
       "      <td>Frozen tissue</td>\n",
       "    </tr>\n",
       "    <tr>\n",
       "      <th>2</th>\n",
       "      <td>GSM100457</td>\n",
       "      <td>10.7046</td>\n",
       "      <td>10.9255</td>\n",
       "      <td>10.1672</td>\n",
       "      <td>8.2440</td>\n",
       "      <td>10.8289</td>\n",
       "      <td>11.4300</td>\n",
       "      <td>7.5817</td>\n",
       "      <td>9.4619</td>\n",
       "      <td>11.4654</td>\n",
       "      <td>...</td>\n",
       "      <td>12.0966</td>\n",
       "      <td>14.7102</td>\n",
       "      <td>14.6577</td>\n",
       "      <td>4.2012</td>\n",
       "      <td>4.2452</td>\n",
       "      <td>4.2012</td>\n",
       "      <td>4.2013</td>\n",
       "      <td>4.2014</td>\n",
       "      <td>4.2015</td>\n",
       "      <td>Frozen tissue</td>\n",
       "    </tr>\n",
       "  </tbody>\n",
       "</table>\n",
       "<p>3 rows × 21291 columns</p>\n",
       "</div>"
      ],
      "text/plain": [
       "rid        cid  200618_at  200811_at  201007_at  201127_s_at  201153_s_at  \\\n",
       "0    GSM100455    11.5294    10.6107    10.0431       7.6647      11.3933   \n",
       "1    GSM100456    10.7827    10.3296    10.5745       7.6639      11.7147   \n",
       "2    GSM100457    10.7046    10.9255    10.1672       8.2440      10.8289   \n",
       "\n",
       "rid  201161_s_at  201207_at  201223_s_at  201225_s_at  ...  \\\n",
       "0         8.8258     8.0107       9.4148      11.4106  ...   \n",
       "1         5.9240     7.7075       9.5450      11.4654  ...   \n",
       "2        11.4300     7.5817       9.4619      11.4654  ...   \n",
       "\n",
       "rid  AFFX-r2-Ec-bioD-5_at  AFFX-r2-P1-cre-3_at  AFFX-r2-P1-cre-5_at  \\\n",
       "0                 12.4241              14.9210              14.8059   \n",
       "1                 11.1830              14.7331              14.5845   \n",
       "2                 12.0966              14.7102              14.6577   \n",
       "\n",
       "rid  AFFX-ThrX-3_at  AFFX-ThrX-5_at  AFFX-ThrX-M_at  AFFX-TrpnX-3_at  \\\n",
       "0            4.3104          4.1793          4.4461           4.2078   \n",
       "1            4.4847          4.2073          4.3884           4.1850   \n",
       "2            4.2012          4.2452          4.2012           4.2013   \n",
       "\n",
       "rid  AFFX-TrpnX-5_at  AFFX-TrpnX-M_at    tissue_name  \n",
       "0             4.3053           4.1794  Frozen tissue  \n",
       "1             4.1851           4.1851  Frozen tissue  \n",
       "2             4.2014           4.2015  Frozen tissue  \n",
       "\n",
       "[3 rows x 21291 columns]"
      ]
     },
     "execution_count": 19,
     "metadata": {},
     "output_type": "execute_result"
    }
   ],
   "source": [
    "gsm_exp_df.head(3)"
   ]
  },
  {
   "cell_type": "code",
   "execution_count": 20,
   "metadata": {},
   "outputs": [
    {
     "data": {
      "text/plain": [
       "Leukemia patient sample         2096\n",
       "HumanAorticEndothelialCells     1014\n",
       "pre-treatment bone marrow        817\n",
       "Breast                           689\n",
       "Male/Female; Normal/Diseased     677\n",
       "                                ... \n",
       "N7A Normal-frontal                 1\n",
       "N7B Normal-cerebellum              1\n",
       "N8C Normal-hippocampus             1\n",
       "N10A Normal-frontal                1\n",
       "brain, Right Cerebellum            1\n",
       "Name: tissue_name, Length: 20480, dtype: int64"
      ]
     },
     "execution_count": 20,
     "metadata": {},
     "output_type": "execute_result"
    }
   ],
   "source": [
    "gsm_exp_df['tissue_name'].value_counts()"
   ]
  },
  {
   "cell_type": "code",
   "execution_count": 21,
   "metadata": {},
   "outputs": [
    {
     "data": {
      "text/plain": [
       "88363"
      ]
     },
     "execution_count": 21,
     "metadata": {},
     "output_type": "execute_result"
    }
   ],
   "source": [
    "len(gsm_exp_df)"
   ]
  },
  {
   "cell_type": "code",
   "execution_count": 22,
   "metadata": {},
   "outputs": [],
   "source": [
    "gsm_exp_df.to_csv('gsm_id_wiith_tissue_names.csv', index=False)"
   ]
  },
  {
   "cell_type": "code",
   "execution_count": null,
   "metadata": {},
   "outputs": [],
   "source": []
  }
 ],
 "metadata": {
  "kernelspec": {
   "display_name": "Python 3 (ipykernel)",
   "language": "python",
   "name": "python3"
  },
  "language_info": {
   "codemirror_mode": {
    "name": "ipython",
    "version": 3
   },
   "file_extension": ".py",
   "mimetype": "text/x-python",
   "name": "python",
   "nbconvert_exporter": "python",
   "pygments_lexer": "ipython3",
   "version": "3.8.13"
  }
 },
 "nbformat": 4,
 "nbformat_minor": 4
}
