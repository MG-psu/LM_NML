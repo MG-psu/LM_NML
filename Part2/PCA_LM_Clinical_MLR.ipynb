{
 "cells": [
  {
   "cell_type": "code",
   "execution_count": 1,
   "metadata": {},
   "outputs": [],
   "source": [
    "#%matplotlib inline\n",
    "from sklearn.datasets import fetch_openml\n",
    "from sklearn.decomposition import PCA\n",
    "import numpy as np\n",
    "#import matplotlib.pyplot as plt\n",
    "from sklearn.preprocessing import StandardScaler\n",
    "import pandas as pd\n",
    "import numpy as np\n",
    "from sklearn.model_selection import train_test_split\n",
    "from sklearn.preprocessing import LabelEncoder\n",
    "import os\n",
    "import smote_variants as sv\n",
    "from imblearn.combine import SMOTETomek\n",
    "from imblearn.under_sampling import TomekLinks\n",
    "from numpy import mean\n",
    "from numpy import std\n",
    "\n",
    "from sklearn.model_selection import cross_val_score\n",
    "from sklearn.model_selection import RepeatedStratifiedKFold\n",
    "from sklearn.linear_model import LogisticRegression\n"
   ]
  },
  {
   "cell_type": "code",
   "execution_count": 2,
   "metadata": {},
   "outputs": [],
   "source": [
    "from sklearn.compose import ColumnTransformer\n",
    "\n",
    "from sklearn.preprocessing import OneHotEncoder\n",
    "from sklearn.preprocessing import MinMaxScaler\n",
    "from sklearn.linear_model import LogisticRegression\n",
    "from sklearn.metrics import classification_report, confusion_matrix, plot_confusion_matrix\n",
    "from sklearn import metrics"
   ]
  },
  {
   "cell_type": "markdown",
   "metadata": {},
   "source": [
    "Load the Data"
   ]
  },
  {
   "cell_type": "code",
   "execution_count": 3,
   "metadata": {},
   "outputs": [],
   "source": [
    "#clinical = pd.read_csv('/Users/madhuri/Desktop/MasterThesis/Part2/ClinicalDF1.csv')"
   ]
  },
  {
   "cell_type": "code",
   "execution_count": 4,
   "metadata": {},
   "outputs": [],
   "source": [
    "#gene_data = pd.read_csv('/Users/madhuri/Desktop/MasterThesis/Part2/final_gene_list.csv')"
   ]
  },
  {
   "cell_type": "code",
   "execution_count": 5,
   "metadata": {},
   "outputs": [],
   "source": [
    "#gene_data.head()"
   ]
  },
  {
   "cell_type": "code",
   "execution_count": 6,
   "metadata": {},
   "outputs": [],
   "source": [
    "from sklearn.model_selection import cross_val_score\n",
    "from sklearn.model_selection import RepeatedStratifiedKFold\n",
    "from sklearn.linear_model import LogisticRegression\n",
    "from sklearn import preprocessing\n"
   ]
  },
  {
   "cell_type": "code",
   "execution_count": 7,
   "metadata": {
    "scrolled": true
   },
   "outputs": [
    {
     "name": "stdout",
     "output_type": "stream",
     "text": [
      "['lm_c4.csv', 'lm_c1.csv', 'lm_c2.csv', 'lm_c3.csv']\n"
     ]
    },
    {
     "data": {
      "text/plain": [
       "4"
      ]
     },
     "execution_count": 7,
     "metadata": {},
     "output_type": "execute_result"
    }
   ],
   "source": [
    "import os\n",
    "file_list=[]\n",
    "#path_of_the_directory = '/storage/home/mpg5798/work/Non LandmarkGenes'\n",
    "for files in os.listdir():\n",
    "    if ((files.startswith('nlm')) | (files.startswith('lm'))&(files.endswith('.csv'))):\n",
    "        file_list.append(files)\n",
    "print(file_list)\n",
    "len(file_list)"
   ]
  },
  {
   "cell_type": "code",
   "execution_count": 8,
   "metadata": {},
   "outputs": [],
   "source": [
    "#nlm_c3_12.csv"
   ]
  },
  {
   "cell_type": "markdown",
   "metadata": {},
   "source": [
    "The next step is to find out number of components with eigenvalues>1, for each set of genes"
   ]
  },
  {
   "cell_type": "code",
   "execution_count": 9,
   "metadata": {},
   "outputs": [
    {
     "name": "stdout",
     "output_type": "stream",
     "text": [
      "done************\n"
     ]
    }
   ],
   "source": [
    "number_of_components=[]\n",
    "clus_size=[]\n",
    "def scree_plot():\n",
    "    from matplotlib.pyplot import figure, show\n",
    "    from matplotlib.ticker import MaxNLocator\n",
    "\n",
    "    ax = figure().gca()\n",
    "    ax.plot(pca.explained_variance_)\n",
    "    ax.xaxis.set_major_locator(MaxNLocator(integer=True))\n",
    "    plt.xlabel('Principal Component')\n",
    "    plt.ylabel('Eigenvalue')\n",
    "    plt.axhline(y=1, linewidth=1, color='r', alpha=0.5)\n",
    "    plt.title('Scree Plot of PCA: Component Eigenvalues')\n",
    "    plt.text(25, 0.85, \"Components needed: \"+str(np.where(np.cumsum(pca.explained_variance_ratio_)>=0.9)[0][0]), \n",
    "             color = \"red\", fontsize=16)\n",
    "    show()\n",
    "\n",
    "#scree_plot()\n",
    "for i in range(4):\n",
    "    dataframe= pd.read_csv(file_list[i])\n",
    "    clus_size.append(len(dataframe.columns))\n",
    "    #dataframe['CancerType']=clinical['CancerType']\n",
    "    X= dataframe\n",
    "    #y=dataframe['CancerType']\n",
    "    #X_train,X_test_unscaled,y_train,y_test = train_test_split(X,y,stratify=y,test_size=0.3,random_state=30) \n",
    "    #le = LabelEncoder()\n",
    "    #le.fit(y_train)\n",
    "    #y_train_enc= le.transform(y_train)\n",
    "    #y_test_enc=le.transform(y_test)\n",
    "    scaler = preprocessing.StandardScaler().fit(X)\n",
    "    X_scaled = scaler.transform(X)\n",
    "    #X_test=scaler.transform(X_test_unscaled)\n",
    "    pca = PCA(random_state=10)\n",
    "    pca_data = pd.DataFrame(pca.fit_transform(X_scaled))\n",
    "    #pca_data.to_csv(\"PC_Set_\" +str(i+1)+\".csv\")\n",
    "    #print(\"********\", file_list[i])\n",
    "    #scree_plot()\n",
    "    number_pcs=np.where(np.cumsum(pca.explained_variance_ratio_)>=0.9)[0][0]\n",
    "    number_of_components.append(number_pcs)\n",
    "    #print(pca.explained_variance_ratio_) #explained variance for each component\n",
    "    #print(\"cluster_\", file_list[i])\n",
    "    #components.append(pca.n_components_)\n",
    "    #print(file_list[i], components[i])\n",
    "    tot = sum(pca.explained_variance_)\n",
    "    #var_exp = [(i/tot)*100 for i in sorted(pca.explained_variance_, reverse=True)] \n",
    "    #print(pca.components_) #eigen vectors\n",
    "    #print(pca.explained_variance_) #eigen values\n",
    "    #print(pow((pca.components_.T),2)) #variable contribution\n",
    "    #pca.components_\n",
    "\n",
    "        #print(var_exp[0:9])\n",
    "        # Cumulative explained variance\n",
    "        #cum_var_exp = np.cumsum(var_exp) \n",
    "        #print(\"************************************\")\n",
    "    # PLOT OUT THE EXPLAINED VARIANCES SUPERIMPOSED \n",
    "# plt.figure(figsize=(10, 5))\n",
    "# plt.step(range(1, (pca.n_components_+1)), cum_var_exp, where='mid',label='cumulative explained variance')\n",
    "# plt.title('Cumulative Explained Variance as a Function of the Number of Components')\n",
    "# plt.ylabel('Cumulative Explained variance')\n",
    "# plt.xlabel('Principal components')\n",
    "# plt.axhline(y = 95, color='k', linestyle='--', label = '95% Explained Variance')\n",
    "# plt.axhline(y = 90, color='c', linestyle='--', label = '90% Explained Variance')\n",
    "# plt.axhline(y = 85, color='r', linestyle='--', label = '85% Explained Variance')\n",
    "# plt.legend(loc='best')\n",
    "# plt.show()\n",
    "\n",
    "print(\"done************\")\n"
   ]
  },
  {
   "cell_type": "code",
   "execution_count": 10,
   "metadata": {},
   "outputs": [
    {
     "data": {
      "text/plain": [
       "4"
      ]
     },
     "execution_count": 10,
     "metadata": {},
     "output_type": "execute_result"
    }
   ],
   "source": [
    "len(number_of_components)\n"
   ]
  },
  {
   "cell_type": "code",
   "execution_count": 11,
   "metadata": {
    "scrolled": true
   },
   "outputs": [],
   "source": [
    "pca_sizes=pd.DataFrame({'cluster_name':file_list,'number_predictors':clus_size, 'number of pcas':number_of_components})"
   ]
  },
  {
   "cell_type": "code",
   "execution_count": 12,
   "metadata": {
    "scrolled": true
   },
   "outputs": [
    {
     "data": {
      "text/html": [
       "<div>\n",
       "<style scoped>\n",
       "    .dataframe tbody tr th:only-of-type {\n",
       "        vertical-align: middle;\n",
       "    }\n",
       "\n",
       "    .dataframe tbody tr th {\n",
       "        vertical-align: top;\n",
       "    }\n",
       "\n",
       "    .dataframe thead th {\n",
       "        text-align: right;\n",
       "    }\n",
       "</style>\n",
       "<table border=\"1\" class=\"dataframe\">\n",
       "  <thead>\n",
       "    <tr style=\"text-align: right;\">\n",
       "      <th></th>\n",
       "      <th>cluster_name</th>\n",
       "      <th>number_predictors</th>\n",
       "      <th>number of pcas</th>\n",
       "    </tr>\n",
       "  </thead>\n",
       "  <tbody>\n",
       "    <tr>\n",
       "      <th>0</th>\n",
       "      <td>lm_c4.csv</td>\n",
       "      <td>386</td>\n",
       "      <td>130</td>\n",
       "    </tr>\n",
       "    <tr>\n",
       "      <th>1</th>\n",
       "      <td>lm_c1.csv</td>\n",
       "      <td>337</td>\n",
       "      <td>157</td>\n",
       "    </tr>\n",
       "    <tr>\n",
       "      <th>2</th>\n",
       "      <td>lm_c2.csv</td>\n",
       "      <td>202</td>\n",
       "      <td>61</td>\n",
       "    </tr>\n",
       "    <tr>\n",
       "      <th>3</th>\n",
       "      <td>lm_c3.csv</td>\n",
       "      <td>439</td>\n",
       "      <td>128</td>\n",
       "    </tr>\n",
       "  </tbody>\n",
       "</table>\n",
       "</div>"
      ],
      "text/plain": [
       "  cluster_name  number_predictors  number of pcas\n",
       "0    lm_c4.csv                386             130\n",
       "1    lm_c1.csv                337             157\n",
       "2    lm_c2.csv                202              61\n",
       "3    lm_c3.csv                439             128"
      ]
     },
     "execution_count": 12,
     "metadata": {},
     "output_type": "execute_result"
    }
   ],
   "source": [
    "pca_sizes"
   ]
  },
  {
   "cell_type": "code",
   "execution_count": 13,
   "metadata": {},
   "outputs": [],
   "source": [
    "pca_sizes.to_csv(\"number_of_PCs_for_4_LM_clusters_as_predictors.csv\", index=False)"
   ]
  },
  {
   "cell_type": "markdown",
   "metadata": {},
   "source": [
    "The next step is to perform pca with N-components found in prev step and save pcs in csv files"
   ]
  },
  {
   "cell_type": "code",
   "execution_count": 13,
   "metadata": {},
   "outputs": [
    {
     "name": "stdout",
     "output_type": "stream",
     "text": [
      "[130, 157, 61, 128]\n",
      "130\n",
      "(6802, 130)\n",
      "[130, 157, 61, 128]\n",
      "157\n",
      "(6802, 157)\n",
      "[130, 157, 61, 128]\n",
      "61\n",
      "(6802, 61)\n",
      "[130, 157, 61, 128]\n",
      "128\n",
      "(6802, 128)\n"
     ]
    }
   ],
   "source": [
    "for i in range(4):\n",
    "    j=number_of_components\n",
    "    (print(j))\n",
    "    dataframe= pd.read_csv(file_list[i])\n",
    "    #clus_size.append(len(dataframe.columns))\n",
    "    #dataframe['CancerType']=clinical['CancerType']\n",
    "    X= dataframe\n",
    "    scaler = preprocessing.StandardScaler().fit(X)\n",
    "    X_scaled = scaler.transform(X)\n",
    "    #X_test=scaler.transform(X_test_unscaled)\n",
    "    print(j[i])\n",
    "    pca = PCA(n_components=j[i],random_state=10)\n",
    "    pca_data = pd.DataFrame(pca.fit_transform(X_scaled))\n",
    "    print(pca_data.shape)\n",
    "    pca_data.to_csv(\"PC_LM_Set_\" +file_list[i] + str(i+1)+\".csv\", index=False)"
   ]
  },
  {
   "cell_type": "code",
   "execution_count": 14,
   "metadata": {},
   "outputs": [
    {
     "name": "stdout",
     "output_type": "stream",
     "text": [
      "PC_LM_Set_lm_c2.csv3.csv\n",
      "(6802, 61)\n",
      "PC_LM_Set_lm_c3.csv4.csv\n",
      "(6802, 128)\n",
      "PC_LM_Set_lm_c4.csv1.csv\n",
      "(6802, 130)\n",
      "PC_LM_Set_lm_c1.csv2.csv\n",
      "(6802, 157)\n"
     ]
    }
   ],
   "source": [
    "import os\n",
    "import pandas as pd\n",
    "pca_file_list=[]\n",
    "#path_of_the_directory = '/storage/home/mpg5798/work/Non LandmarkGenes'\n",
    "for files in os.listdir():\n",
    "    if ((files.startswith('PC_'))):\n",
    "        \n",
    "        pca_file_list.append(files)\n",
    "   \n",
    "for i in range(4):\n",
    "    df=pd.read_csv(pca_file_list[i])\n",
    "    print(pca_file_list[i])\n",
    "        #df=pd.read_csv('files')\n",
    "        \n",
    "    print(df.shape)\n"
   ]
  },
  {
   "cell_type": "markdown",
   "metadata": {},
   "source": [
    "#### The steps that follow read clinical data, take 3 variables(Morphology, Age, Gender) and concatenate with prinicpal components of cluster genes from each set, then perform SMOTE and MLR and measure accuracy"
   ]
  },
  {
   "cell_type": "code",
   "execution_count": 15,
   "metadata": {},
   "outputs": [],
   "source": [
    "clinical = pd.read_csv('/Users/madhuri/Desktop/MasterThesis/Part2/ClinicalDF1.csv')"
   ]
  },
  {
   "cell_type": "code",
   "execution_count": 16,
   "metadata": {},
   "outputs": [],
   "source": [
    "clinical_three=clinical[['Morphology', 'AgeAtDiagnosis', 'Gender', 'CancerType']]"
   ]
  },
  {
   "cell_type": "code",
   "execution_count": 18,
   "metadata": {},
   "outputs": [
    {
     "data": {
      "text/html": [
       "<div>\n",
       "<style scoped>\n",
       "    .dataframe tbody tr th:only-of-type {\n",
       "        vertical-align: middle;\n",
       "    }\n",
       "\n",
       "    .dataframe tbody tr th {\n",
       "        vertical-align: top;\n",
       "    }\n",
       "\n",
       "    .dataframe thead th {\n",
       "        text-align: right;\n",
       "    }\n",
       "</style>\n",
       "<table border=\"1\" class=\"dataframe\">\n",
       "  <thead>\n",
       "    <tr style=\"text-align: right;\">\n",
       "      <th></th>\n",
       "      <th>Morphology</th>\n",
       "      <th>AgeAtDiagnosis</th>\n",
       "      <th>Gender</th>\n",
       "      <th>CancerType</th>\n",
       "    </tr>\n",
       "  </thead>\n",
       "  <tbody>\n",
       "    <tr>\n",
       "      <th>0</th>\n",
       "      <td>8120/3</td>\n",
       "      <td>27730.0</td>\n",
       "      <td>male</td>\n",
       "      <td>Bladder</td>\n",
       "    </tr>\n",
       "    <tr>\n",
       "      <th>1</th>\n",
       "      <td>8120/3</td>\n",
       "      <td>28106.0</td>\n",
       "      <td>male</td>\n",
       "      <td>Bladder</td>\n",
       "    </tr>\n",
       "    <tr>\n",
       "      <th>2</th>\n",
       "      <td>8120/3</td>\n",
       "      <td>26546.0</td>\n",
       "      <td>male</td>\n",
       "      <td>Bladder</td>\n",
       "    </tr>\n",
       "    <tr>\n",
       "      <th>3</th>\n",
       "      <td>8120/3</td>\n",
       "      <td>20424.0</td>\n",
       "      <td>male</td>\n",
       "      <td>Bladder</td>\n",
       "    </tr>\n",
       "    <tr>\n",
       "      <th>4</th>\n",
       "      <td>8120/3</td>\n",
       "      <td>25317.0</td>\n",
       "      <td>male</td>\n",
       "      <td>Bladder</td>\n",
       "    </tr>\n",
       "  </tbody>\n",
       "</table>\n",
       "</div>"
      ],
      "text/plain": [
       "  Morphology  AgeAtDiagnosis Gender CancerType\n",
       "0     8120/3         27730.0   male    Bladder\n",
       "1     8120/3         28106.0   male    Bladder\n",
       "2     8120/3         26546.0   male    Bladder\n",
       "3     8120/3         20424.0   male    Bladder\n",
       "4     8120/3         25317.0   male    Bladder"
      ]
     },
     "execution_count": 18,
     "metadata": {},
     "output_type": "execute_result"
    }
   ],
   "source": [
    "clinical_three.head()\n"
   ]
  },
  {
   "cell_type": "code",
   "execution_count": 19,
   "metadata": {
    "scrolled": false
   },
   "outputs": [
    {
     "data": {
      "text/plain": [
       "Morphology        28\n",
       "AgeAtDiagnosis    84\n",
       "Gender            28\n",
       "CancerType         0\n",
       "dtype: int64"
      ]
     },
     "execution_count": 19,
     "metadata": {},
     "output_type": "execute_result"
    }
   ],
   "source": [
    "clinical_three.isna().sum()"
   ]
  },
  {
   "cell_type": "code",
   "execution_count": 17,
   "metadata": {},
   "outputs": [
    {
     "name": "stdout",
     "output_type": "stream",
     "text": [
      "Mean Accuracy: 0.964\n",
      "Mean Accuracy: 0.975\n",
      "Mean Accuracy: 0.971\n",
      "Mean Accuracy: 0.972\n"
     ]
    }
   ],
   "source": [
    "accuracies=[]\n",
    "for i in range(4):\n",
    "    df=pd.read_csv(pca_file_list[i])\n",
    "    pc_clinical=pd.concat([df, clinical_three], axis=1)\n",
    "    #print(pc_clinical.head())\n",
    "    #print(pc_clinical.shape)\n",
    "    pc_clinical=pc_clinical.dropna()\n",
    "    #print(pc_clinical.shape)\n",
    "    #print(pc_clinical['CancerType'].value_counts())\n",
    "    X= pc_clinical.iloc[:, :-1]\n",
    "    y=pc_clinical['CancerType']\n",
    "    X_train,X_test,y_train,y_test = train_test_split(X,y,stratify=y,test_size=0.3,random_state=10) \n",
    "    numerical_ix= X.select_dtypes(include=['int64','float64']).columns\n",
    "    categorical_ix = X.select_dtypes(include=['object', 'bool']).columns\n",
    "    #one hot encoding categorical predictors\n",
    "    t=[('cat', OneHotEncoder(handle_unknown='ignore'), categorical_ix), ('num', MinMaxScaler(), numerical_ix)]\n",
    "    col_transform=ColumnTransformer(transformers=t)\n",
    "    X_transform=col_transform.fit_transform(X_train)\n",
    "    X_test=col_transform.transform(X_test)\n",
    "    le = LabelEncoder()\n",
    "    le.fit(y_train)\n",
    "    y_train_enc= le.transform(y_train)\n",
    "    y_test_enc=le.transform(y_test)\n",
    "    # Define SMOTE-Tomek Links\n",
    "    resample=SMOTETomek(tomek=TomekLinks(sampling_strategy='majority'))\n",
    "    X_samp, y_samp = resample.fit_resample(X_transform, y_train_enc)\n",
    "    # define the multinomial logistic regression model\n",
    "    model = LogisticRegression(multi_class='multinomial', solver='sag', max_iter = 1000)\n",
    "    # define the model evaluation procedure\n",
    "    cv = RepeatedStratifiedKFold(n_splits=10, n_repeats=10, random_state=1)  \n",
    "    # evaluate the model and collect the scores\n",
    "    n_scores = cross_val_score(model, X_samp, y_samp, scoring='accuracy', cv=cv, n_jobs=-1)\n",
    "    #  model performance\n",
    "    print('Mean Accuracy: %.3f' % (mean(n_scores)))\n",
    "    model.fit(X_samp,y_samp)\n",
    "    y_pred=model.predict(X_test)\n",
    "    #print(\"##########TEST ACCURACY:\")\n",
    "    acc=round((metrics.accuracy_score(y_test_enc,y_pred)*100),3)\n",
    "    accuracies.append(acc)\n"
   ]
  },
  {
   "cell_type": "code",
   "execution_count": 21,
   "metadata": {},
   "outputs": [
    {
     "data": {
      "text/plain": [
       "[97.123, 97.321, 96.726, 96.627]"
      ]
     },
     "execution_count": 21,
     "metadata": {},
     "output_type": "execute_result"
    }
   ],
   "source": [
    "accuracies"
   ]
  },
  {
   "cell_type": "code",
   "execution_count": null,
   "metadata": {},
   "outputs": [],
   "source": []
  },
  {
   "cell_type": "code",
   "execution_count": 15,
   "metadata": {},
   "outputs": [],
   "source": [
    "le = LabelEncoder()\n",
    "le.fit(y_train)\n",
    "y_train_enc= le.transform(y_train)\n",
    "y_test_enc=le.transform(y_test)"
   ]
  },
  {
   "cell_type": "code",
   "execution_count": 16,
   "metadata": {},
   "outputs": [],
   "source": [
    "scaler = preprocessing.StandardScaler().fit(X_train)\n",
    "X_scaled = scaler.transform(X_train)\n",
    "X_test=scaler.transform(X_test_unscaled)"
   ]
  },
  {
   "cell_type": "markdown",
   "metadata": {
    "collapsed": true
   },
   "source": [
    "Make an instance of PCA"
   ]
  },
  {
   "cell_type": "code",
   "execution_count": 17,
   "metadata": {},
   "outputs": [],
   "source": [
    "pca = PCA(.95)"
   ]
  },
  {
   "cell_type": "markdown",
   "metadata": {},
   "source": [
    "Reduce the dimensionality of your data"
   ]
  },
  {
   "cell_type": "code",
   "execution_count": 18,
   "metadata": {},
   "outputs": [],
   "source": [
    "lower_dimensional_data = pca.fit_transform(X_scaled)"
   ]
  },
  {
   "cell_type": "code",
   "execution_count": 19,
   "metadata": {},
   "outputs": [
    {
     "data": {
      "text/plain": [
       "2462"
      ]
     },
     "execution_count": 19,
     "metadata": {},
     "output_type": "execute_result"
    }
   ],
   "source": [
    "pca.n_components_"
   ]
  },
  {
   "cell_type": "markdown",
   "metadata": {},
   "source": [
    "The idea with going from 784 components to 154 is to reduce the running time of a supervised learning algorithm (in this case logistic regression) which we will see at the end of the tutorial. One of the cool things about PCA is that we can go from a compressed representation (154 components) back to an approximation of the original high dimensional data (784 components). "
   ]
  },
  {
   "cell_type": "code",
   "execution_count": 20,
   "metadata": {},
   "outputs": [],
   "source": [
    "approximation = pca.inverse_transform(lower_dimensional_data)"
   ]
  },
  {
   "cell_type": "code",
   "execution_count": 21,
   "metadata": {},
   "outputs": [
    {
     "data": {
      "text/plain": [
       "19004.1085427634"
      ]
     },
     "execution_count": 21,
     "metadata": {},
     "output_type": "execute_result"
    }
   ],
   "source": [
    "# Summing explained variance\n",
    "tot = sum(pca.explained_variance_)\n",
    "tot"
   ]
  },
  {
   "cell_type": "code",
   "execution_count": 22,
   "metadata": {},
   "outputs": [
    {
     "name": "stdout",
     "output_type": "stream",
     "text": [
      "[13.303043248398374, 8.93914474127685, 6.99476834140515, 5.268914400666945, 3.160974282303665]\n"
     ]
    }
   ],
   "source": [
    "var_exp = [(i/tot)*100 for i in sorted(pca.explained_variance_, reverse=True)] \n",
    "print(var_exp[0:5])"
   ]
  },
  {
   "cell_type": "code",
   "execution_count": 23,
   "metadata": {},
   "outputs": [
    {
     "data": {
      "text/plain": [
       "19004.1085427634"
      ]
     },
     "execution_count": 23,
     "metadata": {},
     "output_type": "execute_result"
    }
   ],
   "source": [
    "tot = sum(pca.explained_variance_)\n",
    "tot"
   ]
  },
  {
   "cell_type": "code",
   "execution_count": 24,
   "metadata": {},
   "outputs": [
    {
     "name": "stdout",
     "output_type": "stream",
     "text": [
      "[13.303043248398374, 8.93914474127685, 6.99476834140515, 5.268914400666945, 3.160974282303665]\n"
     ]
    }
   ],
   "source": [
    "var_exp = [(i/tot)*100 for i in sorted(pca.explained_variance_, reverse=True)] \n",
    "print(var_exp[0:5])"
   ]
  },
  {
   "cell_type": "code",
   "execution_count": 25,
   "metadata": {},
   "outputs": [],
   "source": [
    "# Cumulative explained variance\n",
    "cum_var_exp = np.cumsum(var_exp) "
   ]
  },
  {
   "cell_type": "markdown",
   "metadata": {},
   "source": [
    "Plot can help you understand the level of redundancy present in multiple dimensions."
   ]
  },
  {
   "cell_type": "code",
   "execution_count": 28,
   "metadata": {},
   "outputs": [
    {
     "data": {
      "image/png": "[encoded data removed]",
      "text/plain": [
       "<Figure size 720x360 with 1 Axes>"
      ]
     },
     "metadata": {
      "needs_background": "light"
     },
     "output_type": "display_data"
    }
   ],
   "source": [
    "# PLOT OUT THE EXPLAINED VARIANCES SUPERIMPOSED \n",
    "plt.figure(figsize=(10, 5))\n",
    "plt.step(range(1, 2463), cum_var_exp, where='mid',label='cumulative explained variance')\n",
    "plt.title('Cumulative Explained Variance as a Function of the Number of Components')\n",
    "plt.ylabel('Cumulative Explained variance')\n",
    "plt.xlabel('Principal components')\n",
    "plt.axhline(y = 95, color='k', linestyle='--', label = '95% Explained Variance')\n",
    "plt.axhline(y = 90, color='c', linestyle='--', label = '90% Explained Variance')\n",
    "plt.axhline(y = 85, color='r', linestyle='--', label = '85% Explained Variance')\n",
    "plt.legend(loc='best')\n",
    "plt.show()"
   ]
  },
  {
   "cell_type": "markdown",
   "metadata": {},
   "source": [
    "## Number of Principal Components for 99%, 95%, 90%, and 85% of Explained Variance"
   ]
  },
  {
   "cell_type": "code",
   "execution_count": 29,
   "metadata": {},
   "outputs": [],
   "source": [
    "# Indices corresponding to the first occurrence are returned with the np.argmax function\n",
    "# Adding 1 to the end of value in list as principal components start from 1 and indexes start from 0 (np.argmax)\n",
    "componentsVariance = [2462, np.argmax(cum_var_exp > 99) + 1, np.argmax(cum_var_exp > 95) + 1, np.argmax(cum_var_exp > 90) + 1, np.argmax(cum_var_exp >= 85) + 1]"
   ]
  },
  {
   "cell_type": "code",
   "execution_count": 30,
   "metadata": {},
   "outputs": [
    {
     "data": {
      "text/plain": [
       "[2462, 2248, 1585, 1016, 617]"
      ]
     },
     "execution_count": 30,
     "metadata": {},
     "output_type": "execute_result"
    }
   ],
   "source": [
    "componentsVariance"
   ]
  },
  {
   "cell_type": "code",
   "execution_count": null,
   "metadata": {
    "collapsed": true
   },
   "outputs": [],
   "source": []
  }
 ],
 "metadata": {
  "anaconda-cloud": {},
  "kernelspec": {
   "display_name": "Python 3 (ipykernel)",
   "language": "python",
   "name": "python3"
  },
  "language_info": {
   "codemirror_mode": {
    "name": "ipython",
    "version": 3
   },
   "file_extension": ".py",
   "mimetype": "text/x-python",
   "name": "python",
   "nbconvert_exporter": "python",
   "pygments_lexer": "ipython3",
   "version": "3.10.6"
  }
 },
 "nbformat": 4,
 "nbformat_minor": 1
}
